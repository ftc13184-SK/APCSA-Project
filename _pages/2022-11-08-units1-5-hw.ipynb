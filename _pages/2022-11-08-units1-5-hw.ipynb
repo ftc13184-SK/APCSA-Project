{
 "cells": [
  {
   "cell_type": "markdown",
   "metadata": {},
   "source": [
    "# Units 1-5 Homework\n",
    "- toc: true \n",
    "- badges: true\n",
    "- comments: true\n",
    "- categories: [jupyter]\n",
    "- image: images/chart-preview.png"
   ]
  },
  {
   "cell_type": "markdown",
   "metadata": {},
   "source": [
    "# Unit 1 - Primitive Types\n",
    "## Grade Calculator\n"
   ]
  },
  {
   "cell_type": "code",
   "execution_count": null,
   "metadata": {
    "vscode": {
     "languageId": "java"
    }
   },
   "outputs": [],
   "source": [
    "import java.util.Scanner;\n",
    "​\n",
    "public class PrimitivesCalculator {\n",
    "    public static void main(String[] args) {  \n",
    "        Scanner input;\n",
    "        boolean separateCategory;\n",
    "        float currentGrade;\n",
    "        float desiredGrade; \n",
    "        float percentOfFinal; \n",
    "​\n",
    "        input = new Scanner(System.in);\n",
    "        System.out.print(\"Do you want separate categories? \");\n",
    "        separateCategory = input.nextBoolean();\n",
    "        System.out.println(separateCategory);\n",
    "​\n",
    "        if(separateCategory == true) {\n",
    "            System.out.print(\"Enter current grade? \");\n",
    "            currentGrade = input.nextInt();\n",
    "            System.out.println(currentGrade);\n",
    "    \n",
    "            System.out.print(\"Enter desired grade? \");\n",
    "            desiredGrade = input.nextInt();\n",
    "            System.out.println(desiredGrade);\n",
    "​\n",
    "            System.out.print(\"Enter percent of grade that is final? \");\n",
    "            percentOfFinal = input.nextFloat();\n",
    "            System.out.println(percentOfFinal);\n",
    "    \n",
    "            input.close();\n",
    "​\n",
    "            float gradeNeeded = (desiredGrade - currentGrade * (1-percentOfFinal))/percentOfFinal;\n",
    "            System.out.println(gradeNeeded);\n",
    "        }\n",
    "    }        \n",
    "​\n",
    "}"
   ]
  },
  {
   "cell_type": "markdown",
   "metadata": {},
   "source": [
    "# Unit 2 - Using Objects \n",
    "2021 FRQ Parts a and b\n",
    "a) Write the WordMatch method scoreGuess. To determine the score to be returned, scoreGuess finds the number of times that guess occurs as a substring of secret and then multiplies that number by the square of the length of guess. Occurrences of guess may overlap\n",
    "within secret.\n",
    "Assume that the length of guess is less than or equal to the length of secret and that guess is not an empty string. "
   ]
  },
  {
   "cell_type": "code",
   "execution_count": null,
   "metadata": {
    "vscode": {
     "languageId": "java"
    }
   },
   "outputs": [],
   "source": [
    "public class WordMatch\n",
    "{\n",
    "/** The secret string. */\n",
    "private String secret;\n",
    "/** Constructs a WordMatch object with the given secret string of lowercase letters. */\n",
    "\n",
    "public WordMatch(String word)\n",
    "{\n",
    "/* implementation not shown */\n",
    "}\n",
    "/** Returns a score for guess, as described in part (a).\n",
    "* Precondition: 0 < guess.length() <= secret.length()\n",
    "*/\n",
    "public int scoreGuess(String guess)\n",
    "{\n",
    "    int result = 0;\n",
    "\n",
    "    for (int a = 0; a < secret.length(); a++)\n",
    "    {\n",
    "        if(secret.substring(a).indexOf(guess) == 0)\n",
    "        {\n",
    "            result++; \n",
    "        }\n",
    "    }\n",
    "\n",
    "    return result * guess.length() * guess.length();\n",
    "}\n",
    "}\n"
   ]
  },
  {
   "cell_type": "markdown",
   "metadata": {},
   "source": [
    "b) Write the WordMatch method findBetterGuess, which returns the better guess of its two String parameters, guess1 and guess2. If the scoreGuess method returns different values for guess1 and guess2, then the guess with the higher score is returned. If the scoreGuess method returns the same value for guess1 and guess2, then the alphabetically greater guess is returned.\n",
    "The following example shows a declaration of a WordMatch object and the outcomes of some possible calls to the scoreGuess and findBetterGuess methods.\n",
    "WordMatch game = new WordMatch(\"concatenation\"); "
   ]
  },
  {
   "cell_type": "code",
   "execution_count": null,
   "metadata": {
    "vscode": {
     "languageId": "java"
    }
   },
   "outputs": [],
   "source": [
    "// public int scoreGuess(String guess)\n",
    "// { /* to be implemented in part (a) */ }\n",
    "/** Returns the better of two guesses, as determined by scoreGuess and the rules for a\n",
    "* tie-breaker that are described in part (b).\n",
    "* Precondition: guess1 and guess2 contain all lowercase letters.\n",
    "* guess1 is not the same as guess2.\n",
    "*/\n",
    "public String findBetterGuess(String guess1, String guess2)\n",
    "{\n",
    "    if(scoreGuess(guess1)>scoreGuess(guess2))\n",
    "    {\n",
    "        return guess1; \n",
    "    } \n",
    "\n",
    "    if(scoreGuess(guess2) > scoreGuess(guess1))\n",
    "    {\n",
    "        return guess2; \n",
    "    }\n",
    "    \n",
    "    if(guess1.compareTo(guess2) > 0 )\n",
    "    {\n",
    "        return guess1;\n",
    "    }\n",
    "    \n",
    "    return guess2; \n",
    "}\n"
   ]
  },
  {
   "cell_type": "markdown",
   "metadata": {},
   "source": [
    "# Unit 3 - Boolean Expressions and if Statements\n",
    "## Conditionals Exercises #1-20 Even "
   ]
  },
  {
   "cell_type": "code",
   "execution_count": 8,
   "metadata": {
    "vscode": {
     "languageId": "java"
    }
   },
   "outputs": [
    {
     "name": "stdout",
     "output_type": "stream",
     "text": [
      "Input a: 4.0Input b: 5.0Input c: 6.0No real roots.\n"
     ]
    }
   ],
   "source": [
    "//exercise 2\n",
    "import java.util.Scanner;\n",
    "\n",
    "    \n",
    "  \n",
    "          Scanner input = new Scanner(System.in);\n",
    "  \n",
    "              System.out.print(\"Input a: \");\n",
    "              double a = input.nextDouble();\n",
    "              System.out.print(a);\n",
    "              System.out.print(\"Input b: \");\n",
    "              double b = input.nextDouble();\n",
    "              System.out.print(b);\n",
    "              System.out.print(\"Input c: \");\n",
    "              double c = input.nextDouble();\n",
    "              System.out.print(c);\n",
    "  \n",
    "              double result = b * b - 4.0 * a * c;\n",
    "  \n",
    "              if (result > 0.0) {\n",
    "                  double r1 = (-b + Math.pow(result, 0.5)) / (2.0 * a);\n",
    "                  double r2 = (-b - Math.pow(result, 0.5)) / (2.0 * a);\n",
    "                  System.out.println(\"Roots are\" + r1 + \" and \" + r2);\n",
    "              } else if (result == 0.0) {\n",
    "                  double r1 = -b / (2.0 * a);\n",
    "                  System.out.println(\"Root is \" + r1);\n",
    "              } else {\n",
    "                  System.out.println(\"No real roots.\");\n",
    "              }"
   ]
  },
  {
   "cell_type": "code",
   "execution_count": 6,
   "metadata": {
    "vscode": {
     "languageId": "java"
    }
   },
   "outputs": [
    {
     "name": "stdout",
     "output_type": "stream",
     "text": [
      "Input: -2.0Negative number\n"
     ]
    }
   ],
   "source": [
    "//exercise 4\n",
    "Scanner in = new Scanner(System.in);\n",
    "System.out.print(\"Input: \");\n",
    "double input = in.nextDouble();\n",
    "System.out.print(input);\n",
    "if (input > 0)\n",
    "        {\n",
    "            if (input < 1)\n",
    "            {\n",
    "                System.out.println(\"Positive small number\");\n",
    "            }\n",
    "            else if (input > 1000000)\n",
    "            {\n",
    "                System.out.println(\"Positive large number\");\n",
    "            }\n",
    "            else\n",
    "            {\n",
    "                System.out.println(\"Positive number\");\n",
    "            }\n",
    "        }\n",
    "        else if (input < 0)\n",
    "        {\n",
    "            if (Math.abs(input) < 1)\n",
    "            {\n",
    "                System.out.println(\"Negative small number\");\n",
    "            }\n",
    "            else if (Math.abs(input) > 1000000)\n",
    "            {\n",
    "                System.out.println(\"Negative large number\");\n",
    "            }\n",
    "            else\n",
    "            {\n",
    "                System.out.println(\"Negative number\");\n",
    "            }\n",
    "        }\n",
    "        else\n",
    "        {\n",
    "            System.out.println(\"Zero\");\n",
    "        }"
   ]
  },
  {
   "cell_type": "code",
   "execution_count": 5,
   "metadata": {
    "vscode": {
     "languageId": "java"
    }
   },
   "outputs": [
    {
     "name": "stdout",
     "output_type": "stream",
     "text": [
      "Double 1: 1.0Double 2: 4.0Different\n"
     ]
    }
   ],
   "source": [
    "// exercise 6\n",
    " \n",
    "Scanner in = new Scanner(System.in);\n",
    "\n",
    "System.out.print(\"Double 1: \");\n",
    "double num1 = in.nextDouble();\n",
    "System.out.print(num1);\n",
    "System.out.print(\"Double 2: \");\n",
    "double num2 = in.nextDouble();\n",
    "System.out.print(num2); \n",
    "\n",
    "num1 = Math.round(num1 * 1000);\n",
    "num1 = num1 / 1000;\n",
    "\n",
    "num2 = Math.round(num2 * 1000);\n",
    "num2 = num2 / 1000;\n",
    "\n",
    "if (num1 == num2)\n",
    "{\n",
    "    System.out.println(\"Same up to three decimal places\");\n",
    "}\n",
    "else\n",
    "{\n",
    "    System.out.println(\"Different\");\n",
    "}"
   ]
  },
  {
   "cell_type": "code",
   "execution_count": 4,
   "metadata": {
    "vscode": {
     "languageId": "java"
    }
   },
   "outputs": [
    {
     "name": "stdout",
     "output_type": "stream",
     "text": [
      "Type a letter: a\n",
      "Input letter is Vowel\n"
     ]
    }
   ],
   "source": [
    "// exercise 8\n",
    "\n",
    "Scanner in = new Scanner(System.in);\n",
    "\n",
    "System.out.print(\"Type a letter: \");\n",
    "String input = in.next().toLowerCase();\n",
    "System.out.println(input);\n",
    "\n",
    "boolean uppercase = input.charAt(0) >= 65 && input.charAt(0) <= 90;\n",
    "boolean lowercase = input.charAt(0) >= 97 && input.charAt(0) <= 122;\n",
    "boolean vowels = input.equals(\"a\") || input.equals(\"e\") || input.equals(\"i\")\n",
    "        || input.equals(\"o\") || input.equals(\"u\");\n",
    "\n",
    "if (input.length() > 1)\n",
    "{\n",
    "    System.out.println(\"Error. Not a single character.\");\n",
    "}\n",
    "else if (!(uppercase || lowercase))\n",
    "{\n",
    "    System.out.println(\"Error. Not a letter. Enter uppercase or lowercase letter.\");\n",
    "}\n",
    "else if (vowels)\n",
    "{\n",
    "    System.out.println(\"Input letter is Vowel\");\n",
    "}\n",
    "else\n",
    "{\n",
    "    System.out.println(\"Input letter is Consonant\");\n",
    "}"
   ]
  },
  {
   "cell_type": "code",
   "execution_count": 3,
   "metadata": {
    "vscode": {
     "languageId": "java"
    }
   },
   "outputs": [
    {
     "name": "stdout",
     "output_type": "stream",
     "text": [
      "First 10 natural numbers:\n",
      "1\n",
      "2\n",
      "3\n",
      "4\n",
      "5\n",
      "6\n",
      "7\n",
      "8\n",
      "9\n",
      "10\n",
      "\n",
      "\n"
     ]
    }
   ],
   "source": [
    "// exercise 10\n",
    "\n",
    "int i;\n",
    "System.out.println (\"First 10 natural numbers:\");\n",
    "for (i = 1;i <= 10;i++)\n",
    "{      \n",
    "    System.out.println(i);\n",
    "}\n",
    "System.out.println (\"\\n\");"
   ]
  },
  {
   "cell_type": "markdown",
   "metadata": {},
   "source": [
    "## 2019 FRQ 1"
   ]
  },
  {
   "cell_type": "code",
   "execution_count": 2,
   "metadata": {
    "vscode": {
     "languageId": "java"
    }
   },
   "outputs": [],
   "source": [
    "// part a\n",
    "public static int numberOfLeapYears(int year1, int year2)\n",
    "{  \n",
    "   int numLeapYears = 0;\n",
    "   for (int i = year1; i <= year2; i++) {\n",
    "       if (isLeapYear(i)) {\n",
    "           numLeapYears ++;\n",
    "       }\n",
    "   }\n",
    "   return numLeapYears; \n",
    "\n",
    "}"
   ]
  },
  {
   "cell_type": "code",
   "execution_count": null,
   "metadata": {
    "vscode": {
     "languageId": "java"
    }
   },
   "outputs": [],
   "source": [
    "// part b\n",
    "public static int dayOfWeek(int month, int day, int year)\n",
    " {  \n",
    "    int firstDay = firstDayOfYear(year);\n",
    "    int theDate = dayOfYear(month, day year);\n",
    "    int theDay = (firstDay + theDate - 1) % 7;\n",
    "    return theDay;\n",
    " }"
   ]
  },
  {
   "cell_type": "code",
   "execution_count": null,
   "metadata": {
    "vscode": {
     "languageId": "java"
    }
   },
   "outputs": [],
   "source": [
    "public class APCalendar\n",
    "{\n",
    " /** Returns true if year is a leap year and false otherwise. */\n",
    " private static boolean isLeapYear(int year)\n",
    " { /* implementation not shown */ }\n",
    " /** Returns the number of leap years between year1 and year2, inclusive.\n",
    " * Precondition: 0 <= year1 <= year2\n",
    " */\n",
    " public static int numberOfLeapYears(int year1, int year2)\n",
    " { /* to be implemented in part (a) */ \n",
    "    int numLeapYears = 0;\n",
    "    for (int i = year1; i <= year2; i++) {\n",
    "        if (isLeapYear(i)) {\n",
    "            numLeapYears ++;\n",
    "        }\n",
    "    }\n",
    "    return numLeapYears; \n",
    "\n",
    "}\n",
    " /** Returns the value representing the day of the week for the first day of year,\n",
    " * where 0 denotes Sunday, 1 denotes Monday, ..., and 6 denotes Saturday.\n",
    " */\n",
    " private static int firstDayOfYear(int year)\n",
    " { /* implementation not shown */ }\n",
    "\n",
    " /** Returns n, where month, day, and year specify the nth day of the year.\n",
    " * Returns 1 for January 1 (month = 1, day = 1) of any year.\n",
    " * Precondition: The date represented by month, day, year is a valid date.\n",
    " */\n",
    " private static int dayOfYear(int month, int day, int year)\n",
    " { /* implementation not shown */ }\n",
    "\n",
    " /** Returns the value representing the day of the week for the given date\n",
    " * (month, day, year), where 0 denotes Sunday, 1 denotes Monday, ...,\n",
    " * and 6 denotes Saturday.\n",
    " * Precondition: The date represented by month, day, year is a valid date.\n",
    " */\n",
    " public static int dayOfWeek(int month, int day, int year)\n",
    " {  \n",
    "    int firstDay = firstDayOfYear(year);\n",
    "    int theDate = dayOfYear(month, day year);\n",
    "    int theDay = (firstDay + theDate - 1) % 7;\n",
    "    return theDay;\n",
    " }\n",
    " // There may be instance variables, constructors, and other methods not shown.\n",
    "} "
   ]
  },
  {
   "cell_type": "markdown",
   "metadata": {},
   "source": [
    "# Unit 4 - Iteration\n",
    "## Caesar Cipher Program\n",
    "Try to write a caesar cipher program that shifts each letter in a message 3 letters forward. Use any of the methods you learned today. Use it to decode the 3 messages we've given you!"
   ]
  },
  {
   "cell_type": "code",
   "execution_count": 9,
   "metadata": {
    "vscode": {
     "languageId": "java"
    }
   },
   "outputs": [
    {
     "name": "stdout",
     "output_type": "stream",
     "text": [
      "Decrypted Message1 : Nice job!\n",
      "Decrypted Message2 : code code code\n",
      "Decrypted Message3 : supercalifragilisticexpialidocious\n"
     ]
    }
   ],
   "source": [
    "public class CaesarCipher {\n",
    "\n",
    "    public static void main(String[] args) {\n",
    "\n",
    "        String[] letters = {\"a\", \"b\", \"c\", \"d\", \"e\", \"f\", \"g\", \"h\", \"i\", \"j\", \"k\", \"l\", \"m\", \"n\", \"o\", \"p\", \"q\", \"r\", \"s\", \"t\", \"u\", \"v\", \"w\", \"x\", \"y\", \"z\"};\n",
    "        String message1 = \"Kfzb gly!\";\n",
    "        String message2 = \"zlab zlab zlab\";\n",
    "        String message3 = \"prmbozxifcoxdfifpqfzbumfxifalzflrp\";\n",
    "\n",
    "        int shiftBy = 3 ; // showing how much to shift by\n",
    "\n",
    "        CaesarCipher caesarCipher = new CaesarCipher(); // instantiating CaesarCipher class\n",
    "\n",
    "        System.out.println(\"Decrypted Message1 : \" + caesarCipher.decryptMessage(message1, shiftBy));\n",
    "        System.out.println(\"Decrypted Message2 : \" + caesarCipher.decryptMessage(message2, shiftBy));\n",
    "        System.out.println(\"Decrypted Message3 : \" + caesarCipher.decryptMessage(message3, shiftBy));\n",
    "    }\n",
    "\n",
    "    // method for decrypting given message by the shift int value \n",
    "    String decryptMessage(String input, int shiftBy){ \n",
    "\n",
    "        int asciia =(int) 'a'; // assigning ascii values for a \n",
    "\n",
    "        String decryptMessage = \"\";\n",
    "        for(int i=0 ; i < input.length(); i++){\n",
    "                char c = input.charAt(i) ; \n",
    "                char newChar = c ;\n",
    "                // does decryption only for letters (not the exclamation mark, not spaces, etc.)\n",
    "                if( Character.isLetter(c) ){\n",
    "                    int intValue = (int) c ; // finds the ascii value for given letter\n",
    "                    int newValue = (intValue - asciia + shiftBy ) % 26 ; // assiging deciphered ascii value by subtracting the ascii value and adding the shift value\n",
    "                    newValue = newValue + asciia ;\n",
    "                    newChar = (char) newValue; // converting ascii value to new character\n",
    "                }\n",
    "                decryptMessage += newChar ;\n",
    "        }\n",
    "        return decryptMessage;\n",
    "    }\n",
    "\n",
    "}\n",
    "CaesarCipher.main(null);"
   ]
  },
  {
   "cell_type": "markdown",
   "metadata": {},
   "source": [
    "# Unit 5 - Writing Class\n",
    "## 2019 Free Response Question 2\n",
    "\n",
    "This question involves the implementation of a fitness tracking system that is represented by the StepTracker class. A StepTracker object is created with a parameter that defines the minimum number of steps that must be taken for a day to be considered active.\n",
    "\n",
    "    The StepTracker class provides a constructor and the following methods.\n",
    "    \n",
    "- addDailySteps, which accumulates information about steps, in readings taken once per day\n",
    "- activeDays, which returns the number of active days\n",
    "- averageSteps, which returns the average number of steps per day, calculated by dividing the total number of steps taken by the number of days tracked \n",
    "\n",
    "Write the complete StepTracker class, including the constructor and any required instance variables and\n",
    "methods. Your implementation must meet all specifications and conform to the example. "
   ]
  },
  {
   "cell_type": "code",
   "execution_count": 10,
   "metadata": {
    "vscode": {
     "languageId": "java"
    }
   },
   "outputs": [],
   "source": [
    "public class StepTracker {\n",
    "\n",
    "    // accessing and showing our private instance variables\n",
    "     private int totalSteps;\n",
    "     private int minimumSteps;\n",
    "     private int daysActive;\n",
    "     private int days;\n",
    "     \n",
    "     // constructor with the parameter \n",
    "     public StepTracker(int least){\n",
    "         minimumSteps = least;\n",
    "         totalSteps = 0; // values to initialize variables\n",
    "         daysActive = 0;\n",
    "         days = 0;\n",
    "     }\n",
    " \n",
    "     //added the dailySteps method as the \"AddDailySteps\"\n",
    "     public void AddDailySteps(int steps){\n",
    "         totalSteps += steps; //shows active days and the incremental counting\n",
    "         days++;\n",
    "         if (steps >= minSteps){\n",
    "             daysActive++; // updates the other instance variables\n",
    "         }\n",
    "     }\n",
    " \n",
    "     //the activeDays method\n",
    "     public int getdaysActive(){ // declared and implemented into program\n",
    "         return days;\n",
    "     }\n",
    " \n",
    "     public double avgSteps(){\n",
    "         if (days == 0){\n",
    "             return 0.0;\n",
    "         } \n",
    "         else{\n",
    " \n",
    "             //returns the calculated double of the average number of steps walked\n",
    "             return (double) totalSteps / days; \n",
    "         }\n",
    "     }\n",
    " \n",
    " }"
   ]
  }
 ],
 "metadata": {
  "kernelspec": {
   "display_name": "Java",
   "language": "java",
   "name": "java"
  },
  "language_info": {
   "codemirror_mode": "java",
   "file_extension": ".jshell",
   "mimetype": "text/x-java-source",
   "name": "Java",
   "pygments_lexer": "java",
   "version": "11.0.16+8-post-Ubuntu-0ubuntu120.04"
  },
  "orig_nbformat": 4,
  "vscode": {
   "interpreter": {
    "hash": "916dbcbb3f70747c44a77c7bcd40155683ae19c65e1c03b4aa3499c5328201f1"
   }
  }
 },
 "nbformat": 4,
 "nbformat_minor": 2
}
