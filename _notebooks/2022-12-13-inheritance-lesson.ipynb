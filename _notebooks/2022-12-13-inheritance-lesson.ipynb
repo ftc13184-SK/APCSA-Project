{
 "cells": [
  {
   "cell_type": "markdown",
   "metadata": {},
   "source": [
    "# Inheritance Lesson Hacks\n",
    "- toc: true \n",
    "- badges: true\n",
    "- comments: true\n",
    "- categories: [jupyter]\n",
    "- image: images/chart-preview.png"
   ]
  },
  {
   "cell_type": "markdown",
   "metadata": {},
   "source": [
    "# Group Information\n",
    "- Group 7\n",
    "- Members: Shraddha Kadaba and Bria Gilliam"
   ]
  },
  {
   "cell_type": "markdown",
   "metadata": {},
   "source": [
    "# Notes of Key Concepts \n",
    "\n",
    "- Each class can extend from it's base class\n",
    "- When a class extends from its base class, it inherits the methods and other attributes\n",
    "- ***Protected:*** an access modifier so that the attribute isn't affected by access modifier that isn't affected by outside modifiers\n",
    "- If the attributes of the subclass are exactly the same as the attributes of the superclass, then we can just use the constructor of the superclass.\n",
    "- An additional attribute that's added to the subclass class does not have to be added to the superclass if it does not apply to it\n",
    "- Overriding methods allows the subclass to provide specific implementation of a method \n",
    "    - Has to be already provided by the super-class\n",
    "- If a method in a subclass has the same name, same parameters or signature, and same return type as a method in its super-class, then the method in the subclass will override the method in the super-class.\n",
    "- ***Uses of the super keyword***\n",
    "    - Use constructors in the superclass\n",
    "    - Use the methods in the superclass in the child class\n",
    "- You can use a inheritance hierarchy to organize references\n",
    "- ***Polymorphism:*** You can do one action many ways \n",
    "    - ***Runtime Polymorphism:*** method overriding\n",
    "    - ***Compile Time Polymorphism:*** also using method overrloading\n",
    "- Object class is the superclass of all other classes in Java\n",
    "- ***toString Method:*** Prints out the attributes of an object and converts a string object to string\n",
    "- ***equals Method:*** Compares two strings and returns a boolean value of true if equal"
   ]
  },
  {
   "cell_type": "markdown",
   "metadata": {},
   "source": [
    "# Hacks"
   ]
  },
  {
   "cell_type": "code",
   "execution_count": 17,
   "metadata": {},
   "outputs": [
    {
     "name": "stdout",
     "output_type": "stream",
     "text": [
      "Candy is not healthy. Consume in moderation!\n"
     ]
    }
   ],
   "source": [
    "public class Candy {\n",
    "    protected double candyCalories;\n",
    "    protected double candyRating;\n",
    "    protected double candySize; \n",
    "\n",
    "    public Candy(double candyCalories, double candySize, double candyRating){\n",
    "    this.candyCalories = candyCalories;\n",
    "    this.candyRating = candyRating;\n",
    "    this.candySize = candySize; \n",
    "    }\n",
    "    public void healthWarning() {\n",
    "        System.out.println(\"Candy is not healthy. Consume in moderation!\");\n",
    "    }\n",
    "    public static void main(String[] args){\n",
    "        Candy can = new Candy(100, 20, 9.4);\n",
    "        can.healthWarning();\n",
    "        \n",
    "    }\n",
    "}\n",
    "\n",
    "Candy.main(null);"
   ]
  },
  {
   "cell_type": "code",
   "execution_count": 16,
   "metadata": {},
   "outputs": [
    {
     "name": "stdout",
     "output_type": "stream",
     "text": [
      "Starbursts are not good for you!!!\n",
      "Your candy is sweet.\n",
      "Your candy is sweet and chewy.\n"
     ]
    }
   ],
   "source": [
    "public class Starbursts extends Candy{\n",
    "    protected String candyColor; \n",
    "    public Starbursts(double candyCalories, double candySize, double candyRating, String candyColor){\n",
    "        super(candyCalories, candySize, candyRating);\n",
    "        this.candyColor = candyColor;\n",
    "    }\n",
    "    @Override\n",
    "    public void healthWarning() {\n",
    "        System.out.println(\"Starbursts are not good for you!!!\");\n",
    "    }\n",
    "    public void type(String type1){\n",
    "        System.out.println(\"Your candy is \" + type1 + \".\");\n",
    "    }\n",
    "    public void type(String type1, String type2) {\n",
    "        System.out.println(\"Your candy is \" + type1 + \" and \" + type2 + \".\");\n",
    "    }\n",
    "\n",
    "    public static void main(String[] args){\n",
    "        Starbursts star = new Starbursts(20, 0.5, 6.5, \"Red\");\n",
    "        star.healthWarning();\n",
    "        star.type(\"sweet\");\n",
    "        star.type(\"sweet\", \"chewy\");\n",
    "    }\n",
    "}\n",
    "Starbursts.main(null);"
   ]
  },
  {
   "cell_type": "code",
   "execution_count": 20,
   "metadata": {},
   "outputs": [
    {
     "name": "stdout",
     "output_type": "stream",
     "text": [
      "Smarties are not good for you!!!\n"
     ]
    }
   ],
   "source": [
    "public class Smarties extends Candy{\n",
    "    protected String candyColor;\n",
    "    public Smarties(double candyCalories, double candySize, double candyRating, String candyColor){\n",
    "        super(candyCalories, candySize, candyRating);\n",
    "        this.candyColor = candyColor;\n",
    "    }\n",
    "\n",
    "    @Override\n",
    "    public void healthWarning() {\n",
    "        System.out.println(\"Smarties are not good for you!!!\");\n",
    "    }\n",
    "    public static void main(String[] args){\n",
    "        Smarties smart = new Smarties(20, 0.5, 6.5, \"Red\");\n",
    "        smart.healthWarning();\n",
    "    }\n",
    "}\n",
    "Smarties.main(null);"
   ]
  }
 ],
 "metadata": {
  "kernelspec": {
   "display_name": "Java",
   "language": "java",
   "name": "java"
  },
  "language_info": {
   "codemirror_mode": "java",
   "file_extension": ".jshell",
   "mimetype": "text/x-java-source",
   "name": "java",
   "pygments_lexer": "java",
   "version": "11.0.16+8-post-Ubuntu-0ubuntu120.04"
  },
  "orig_nbformat": 4,
  "vscode": {
   "interpreter": {
    "hash": "916dbcbb3f70747c44a77c7bcd40155683ae19c65e1c03b4aa3499c5328201f1"
   }
  }
 },
 "nbformat": 4,
 "nbformat_minor": 2
}
