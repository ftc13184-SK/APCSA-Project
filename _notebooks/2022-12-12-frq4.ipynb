{
 "cells": [
  {
   "cell_type": "markdown",
   "metadata": {},
   "source": [
    "# 2019 FRQ 4\n",
    "- toc: true \n",
    "- badges: true\n",
    "- comments: true\n",
    "- categories: [jupyter, FRQs]\n",
    "- image: images/chart-preview.png"
   ]
  },
  {
   "cell_type": "markdown",
   "metadata": {},
   "source": [
    "The LightBoard class models a two-dimensional display of lights, where each light is either on or off, as\n",
    "represented by a Boolean value. You will implement a constructor to initialize the display and a method to\n",
    "evaluate a light."
   ]
  },
  {
   "cell_type": "code",
   "execution_count": null,
   "metadata": {},
   "outputs": [],
   "source": [
    "public class LightBoard\n",
    "{\n",
    " /** The lights on the board, where true represents on and false represents off.\n",
    " */\n",
    " private boolean[][] lights;\n",
    " /** Constructs a LightBoard object having numRows rows and numCols columns.\n",
    " * Precondition: numRows > 0, numCols > 0\n",
    " * Postcondition: each light has a 40% probability of being set to on.\n",
    " */\n",
    " public LightBoard(int numRows, int numCols)\n",
    " { /* to be implemented in part (a) */ }\n",
    " /** Evaluates a light in row index row and column index col and returns a status\n",
    " * as described in part (b).\n",
    " * Precondition: row and col are valid indexes in lights.\n",
    " */\n",
    " public boolean evaluateLight(int row, int col)\n",
    " { /* to be implemented in part (b) */ }\n",
    " // There may be additional instance variables, constructors, and methods not shown.\n",
    "}"
   ]
  },
  {
   "cell_type": "markdown",
   "metadata": {},
   "source": [
    "## Part A\n",
    "Write the constructor for the LightBoard class, which initializes lights so that each light is set to on with a 40% probability. The notation lights[r][c] represents the array element at row r and column c.\n",
    "\n",
    "Complete the LightBoard constructor below.\n",
    "\n",
    " /** Constructs a LightBoard object having numRows rows and numCols columns.\n",
    "* Precondition: numRows > 0, numCols > 0\n",
    "* Postcondition: each light has a 40% probability of being set to on.\n",
    "*/\n",
    "public LightBoard(int numRows, int numCols) "
   ]
  },
  {
   "cell_type": "code",
   "execution_count": null,
   "metadata": {},
   "outputs": [],
   "source": [
    "public LightBoard(int numRows, int numCols)\n",
    "{\n",
    " lights = new boolean[numRows][numCols]; // assigngs instance variable to \"lights\"\n",
    "\n",
    " for (int r = 0; r < numRows; r++)        // for loop for the elements in the 2D array\n",
    "\n",
    " {\n",
    "\n",
    " for (int c = 0; c < numCols; c++)\n",
    "\n",
    " {\n",
    "\n",
    " double rnd = Math.random();            //using the Math.random function\n",
    "\n",
    " lights[r][c] = rnd < 0.4;              //40% probanbility of the light being set on\n",
    "\n",
    " }\n",
    " }\n",
    "}"
   ]
  },
  {
   "cell_type": "markdown",
   "metadata": {},
   "source": [
    "## Part B\n",
    "Write the method evaluateLight, which computes and returns the status of a light at a given row and column based on the following rules.\n",
    "1. If the light is on, return false if the number of lights in its column that are on is even, including the current light.\n",
    "2. If the light is off, return true if the number of lights in its column that are on is divisible by three.\n",
    "3. Otherwise, return the light’s current status.\n",
    "\n",
    "For example, suppose that LightBoard sim = new LightBoard(7, 5) creates a light board with the initial state shown below, where true represents a light that is on and false represents a light that is off. Lights that are off are shaded."
   ]
  },
  {
   "cell_type": "code",
   "execution_count": null,
   "metadata": {},
   "outputs": [],
   "source": [
    "public boolean evaluateLight(int row, int col)\n",
    "{\n",
    " int numOn = 0;\n",
    "\n",
    " for (int r = 0; r < lights.length; r++)     // for loops for finding the status of the light\n",
    " {\n",
    " if (lights[r][col])\n",
    " {\n",
    " numOn++;\n",
    " }\n",
    " }\n",
    "\n",
    " if (lights[row][col] && numOn % 2 == 0)     // checking if the light is on\n",
    " {\n",
    " return false;                              // returns false if the light is on\n",
    " }\n",
    " if (!lights[row][col] && numOn % 3 == 0)    // checking if the light is off\n",
    " {\n",
    " return true;                                // returns true if the light is off\n",
    " }\n",
    " return lights[row][col];                    // if none of the conditions are met, returns the light's current status\n",
    "}"
   ]
  }
 ],
 "metadata": {
  "kernelspec": {
   "display_name": "Java",
   "language": "java",
   "name": "java"
  },
  "language_info": {
   "name": "java"
  },
  "orig_nbformat": 4
 },
 "nbformat": 4,
 "nbformat_minor": 2
}
