{
 "cells": [
  {
   "cell_type": "markdown",
   "metadata": {},
   "source": [
    "# 2019 FRQ 4\n",
    "- toc: true \n",
    "- badges: true\n",
    "- comments: true\n",
    "- categories: [jupyter]\n",
    "- image: images/chart-preview.png"
   ]
  },
  {
   "cell_type": "markdown",
   "metadata": {},
   "source": [
    "The LightBoard class models a two-dimensional display of lights, where each light is either on or off, as\n",
    "represented by a Boolean value. You will implement a constructor to initialize the display and a method to\n",
    "evaluate a light."
   ]
  },
  {
   "cell_type": "code",
   "execution_count": null,
   "metadata": {},
   "outputs": [],
   "source": [
    "public class LightBoard\n",
    "{\n",
    " /** The lights on the board, where true represents on and false represents off.\n",
    " */\n",
    " private boolean[][] lights;\n",
    " /** Constructs a LightBoard object having numRows rows and numCols columns.\n",
    " * Precondition: numRows > 0, numCols > 0\n",
    " * Postcondition: each light has a 40% probability of being set to on.\n",
    " */\n",
    " public LightBoard(int numRows, int numCols)\n",
    " { /* to be implemented in part (a) */ }\n",
    " /** Evaluates a light in row index row and column index col and returns a status\n",
    " * as described in part (b).\n",
    " * Precondition: row and col are valid indexes in lights.\n",
    " */\n",
    " public boolean evaluateLight(int row, int col)\n",
    " { /* to be implemented in part (b) */ }\n",
    " // There may be additional instance variables, constructors, and methods not shown.\n",
    "}"
   ]
  },
  {
   "cell_type": "markdown",
   "metadata": {},
   "source": [
    "(a) Write the constructor for the LightBoard class, which initializes lights so that each light is set to on with a 40% probability. The notation lights[r][c] represents the array element at row r and column c.\n",
    "\n",
    "Complete the LightBoard constructor below.\n",
    "\n",
    " /** Constructs a LightBoard object having numRows rows and numCols columns.\n",
    "* Precondition: numRows > 0, numCols > 0\n",
    "* Postcondition: each light has a 40% probability of being set to on.\n",
    "*/\n",
    "public LightBoard(int numRows, int numCols) "
   ]
  },
  {
   "cell_type": "code",
   "execution_count": null,
   "metadata": {},
   "outputs": [],
   "source": []
  },
  {
   "cell_type": "markdown",
   "metadata": {},
   "source": []
  }
 ],
 "metadata": {
  "kernelspec": {
   "display_name": "Java",
   "language": "java",
   "name": "java"
  },
  "language_info": {
   "name": "java"
  },
  "orig_nbformat": 4
 },
 "nbformat": 4,
 "nbformat_minor": 2
}
