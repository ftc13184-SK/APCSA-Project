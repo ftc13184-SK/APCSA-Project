{
 "cells": [
  {
   "cell_type": "markdown",
   "metadata": {},
   "source": [
    "# Primatives Hack: Temperature Converter\n",
    "- toc: true \n",
    "- badges: true\n",
    "- comments: true\n",
    "- categories: [jupyter]\n",
    "- image: images/chart-preview.png"
   ]
  },
  {
   "cell_type": "code",
   "execution_count": 27,
   "metadata": {
    "vscode": {
     "languageId": "java"
    }
   },
   "outputs": [
    {
     "ename": "CompilationException",
     "evalue": "",
     "output_type": "error",
     "traceback": [
      "\u001b[1m\u001b[30m|   \u001b[1m\u001b[30m        \u001b[0m\u001b[1m\u001b[30m\u001b[41misFarhenheit\u001b[0m\u001b[1m\u001b[30m = true;\u001b[0m",
      "\u001b[1m\u001b[31mcannot find symbol\u001b[0m",
      "\u001b[1m\u001b[31m  symbol:   variable isFarhenheit\u001b[0m",
      "",
      "\u001b[1m\u001b[30m|   \u001b[1m\u001b[30m        \u001b[0m\u001b[1m\u001b[30m\u001b[41misFarhenheit\u001b[0m\u001b[1m\u001b[30m = false;\u001b[0m",
      "\u001b[1m\u001b[31mcannot find symbol\u001b[0m",
      "\u001b[1m\u001b[31m  symbol:   variable isFarhenheit\u001b[0m",
      "",
      "\u001b[1m\u001b[30m|   \u001b[1m\u001b[30m    if(\u001b[0m\u001b[1m\u001b[30m\u001b[41misfarenheit\u001b[0m\u001b[1m\u001b[30m)\u001b[0m",
      "\u001b[1m\u001b[31mcannot find symbol\u001b[0m",
      "\u001b[1m\u001b[31m  symbol:   variable isfarenheit\u001b[0m",
      "",
      "\u001b[1m\u001b[30m|   \u001b[1m\u001b[30m    if\u001b[0m\u001b[1m\u001b[30m\u001b[41m(isfarenheit)\u001b[0m\u001b[1m\u001b[30m\u001b[0m",
      "\u001b[1m\u001b[31millegal parenthesized expression\u001b[0m",
      "",
      "\u001b[1m\u001b[30m|   \u001b[1m\u001b[30m    else if(!\u001b[0m\u001b[1m\u001b[30m\u001b[41misfarenheit\u001b[0m\u001b[1m\u001b[30m)\u001b[0m",
      "\u001b[1m\u001b[31mcannot find symbol\u001b[0m",
      "\u001b[1m\u001b[31m  symbol:   variable isfarenheit\u001b[0m",
      ""
     ]
    }
   ],
   "source": [
    "import java.util.Scanner;\n",
    "public class newPrimatives\n",
    "{\n",
    "    public static void main(String[] args)\n",
    "\n",
    "{\n",
    "    Scanner keyboard = new Scanner(System.in);\n",
    "    System.out.println(\"Enter in Fahrenheit to convert from Fahrenheit to Celsius, or Celsius to convert from Celsius to Fahrenheit.\");\n",
    "    String conversionDeterminer = keyboard.nextLine();\n",
    "    System.out.println(\"Please enter a temperature.\");\n",
    "    int originalTemp = keyboard.nextInt();\n",
    "    double convertedTemp;\n",
    "   boolean isFahrenheit;\n",
    "   if (conversionDeterminer == \"Fahrenheit\")\n",
    "   {\n",
    "        isFahrenheit = true;\n",
    "   }\n",
    "   else\n",
    "   {\n",
    "        isFahrenheit = false;\n",
    "   }\n",
    "\n",
    "    if(isFahrenheit)\n",
    "    {\n",
    "        convertedTemp = (originalTemp - 32) * (5.0/9);\n",
    "        System.out.println(convertedTemp);\n",
    "    }\n",
    "    else if(isFahrenheit)\n",
    "    {\n",
    "        convertedTemp = originalTemp * (9.0/5) +32;\n",
    "        System.out.println(convertedTemp);\n",
    "    }\n",
    "    else\n",
    "    {\n",
    "        System.out.println(\"Sorry, that input is not valid. Please try running the program again.\");\n",
    "    }\n",
    "\n",
    "}\n",
    "}\n",
    "newPrimatives.main(null);"
   ]
  }
 ],
 "metadata": {
  "kernelspec": {
   "display_name": "Java",
   "language": "java",
   "name": "java"
  },
  "language_info": {
   "codemirror_mode": "java",
   "file_extension": ".jshell",
   "mimetype": "text/x-java-source",
   "name": "Java",
   "pygments_lexer": "java",
   "version": "11.0.16+8-post-Ubuntu-0ubuntu120.04"
  },
  "orig_nbformat": 4,
  "vscode": {
   "interpreter": {
    "hash": "916dbcbb3f70747c44a77c7bcd40155683ae19c65e1c03b4aa3499c5328201f1"
   }
  }
 },
 "nbformat": 4,
 "nbformat_minor": 2
}
