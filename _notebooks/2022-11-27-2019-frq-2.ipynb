{
 "cells": [
  {
   "cell_type": "markdown",
   "metadata": {},
   "source": [
    "# 2019 FRQ # 2\n",
    "- toc: true \n",
    "- badges: true\n",
    "- comments: true\n",
    "- categories: [jupyter, Class Lessons]\n",
    "- image: images/chart-preview.png"
   ]
  },
  {
   "cell_type": "markdown",
   "metadata": {},
   "source": [
    "2. This question involves the implementation of a fitness tracking system that is represented by the StepTracker class. A StepTracker object is created with a parameter that defines the minimum number of steps that must be taken for a day to be considered active.\n",
    "The StepTracker class provides a constructor and the following methods.\n",
    "• addDailySteps, which accumulates information about steps, in readings taken once per day\n",
    "• activeDays, which returns the number of active days\n",
    "• averageSteps, which returns the average number of steps per day, calculated by dividing the total number of steps taken by the number of days tracked"
   ]
  },
  {
   "cell_type": "code",
   "execution_count": 1,
   "metadata": {},
   "outputs": [],
   "source": [
    "public class StepTracker {\n",
    "\n",
    "    // accessing and showing our private instance variables\n",
    "     private int totalSteps;\n",
    "     private int minimumSteps;\n",
    "     private int daysActive;\n",
    "     private int days;\n",
    "     \n",
    "     // constructor with the parameter \n",
    "     public StepTracker(int least){\n",
    "         minimumSteps = least;\n",
    "         totalSteps = 0; // values to initialize variables\n",
    "         daysActive = 0;\n",
    "         days = 0;\n",
    "     }\n",
    " \n",
    "     //added the dailySteps method as the \"AddDailySteps\"\n",
    "     public void AddDailySteps(int steps){\n",
    "         totalSteps += steps; //shows active days and the incremental counting\n",
    "         days++;\n",
    "         if (steps >= minSteps){\n",
    "             daysActive++; // updates the other instance variables\n",
    "         }\n",
    "     }\n",
    " \n",
    "     //the activeDays method\n",
    "     public int getdaysActive(){ // declared and implemented into program\n",
    "         return days;\n",
    "     }\n",
    " \n",
    "     public double avgSteps(){\n",
    "         if (days == 0){\n",
    "             return 0.0;\n",
    "         } \n",
    "         else{\n",
    " \n",
    "             //returns the calculated double of the average number of steps walked\n",
    "             return (double) totalSteps / days; \n",
    "         }\n",
    "     }\n",
    " \n",
    " }"
   ]
  }
 ],
 "metadata": {
  "kernelspec": {
   "display_name": "Java",
   "language": "java",
   "name": "java"
  },
  "language_info": {
   "codemirror_mode": "java",
   "file_extension": ".jshell",
   "mimetype": "text/x-java-source",
   "name": "java",
   "pygments_lexer": "java",
   "version": "11.0.16+8-post-Ubuntu-0ubuntu120.04"
  },
  "orig_nbformat": 4,
  "vscode": {
   "interpreter": {
    "hash": "916dbcbb3f70747c44a77c7bcd40155683ae19c65e1c03b4aa3499c5328201f1"
   }
  }
 },
 "nbformat": 4,
 "nbformat_minor": 2
}
