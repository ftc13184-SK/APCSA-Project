{
 "cells": [
  {
   "cell_type": "markdown",
   "metadata": {},
   "source": [
    "# Units 6-10 Notes\n",
    "- toc: true \n",
    "- badges: true\n",
    "- comments: true\n",
    "- categories: [jupyter, Class Lessons]\n",
    "- image: images/chart-preview.png"
   ]
  },
  {
   "cell_type": "markdown",
   "metadata": {},
   "source": [
    "# Unit 6 Arrays\n",
    "- The unit I taught"
   ]
  },
  {
   "cell_type": "markdown",
   "metadata": {},
   "source": [
    "# Unit 7 ArrayList\n",
    "- Can change size \n",
    "- A class with many methods\n",
    "- Not designed to store primitives, they store object references\n",
    "- Slightly slower than arrays"
   ]
  },
  {
   "cell_type": "markdown",
   "metadata": {},
   "source": [
    "## 7.1 Introduction to ArrayList\n",
    "- Primitive Data Types: \n",
    "    - Boolean \n",
    "    - Char\n",
    "    - Double\n",
    "    - Int \n",
    "- Wrapper Class Data Types\n",
    "    - Boolean \n",
    "    - Character\n",
    "    - Double \n",
    "    - Integer"
   ]
  },
  {
   "cell_type": "code",
   "execution_count": null,
   "metadata": {},
   "outputs": [],
   "source": [
    "import java.util.ArrayList; //you must import the java.util package\n",
    "\n",
    "// Instantiating: ArrayList<DataType> variableName = new ArrayList<>(n);\n",
    "//DataType must be nonprimitive data type\n",
    "\n",
    "public class introArrayList {\n",
    "    public static void main (String[] args) {\n",
    "        ArrayList<Integer> e1 = new ArrayList<Integer>(); //empty\n",
    "        ArrayList<String> e2 = new ArrayList<String>(5); //5 elements\n",
    "        ArrayList<Dogs> e3 = new ArrayList<Dogs>(); //you can store whatever objects you want\n",
    "    }\n",
    "}"
   ]
  },
  {
   "cell_type": "markdown",
   "metadata": {},
   "source": [
    "## 7.2 ArrayList Methods\n",
    "- size(); \n",
    "    - Returns the number of elements in the list\n",
    "- add(obj);\n",
    "    - Adds elements at the end\n",
    "- remove(index);\n",
    "    - Removes element at a specific index\n",
    "- set(index, object);\n",
    "    - Replaces element at index with new object\n",
    "- get(index); \n",
    "    - Returns element at index"
   ]
  },
  {
   "cell_type": "markdown",
   "metadata": {},
   "source": [
    "# Unit 8 2D Arrays\n",
    "## Objectives \n",
    "- Representing collections of related primitive and object reference data using two dimensional array objects\n",
    "\n",
    "## 2D Array Vocab\n",
    "- Arrays: a data structure used to implement a collection (list) of primitive or object reference data\n",
    "- Element: a single value in the array\n",
    "- Index: the position of the element in the array (it starts from 0)\n",
    "- Array length: the number of elements in the array (public and final)"
   ]
  },
  {
   "cell_type": "code",
   "execution_count": 1,
   "metadata": {},
   "outputs": [
    {
     "name": "stdout",
     "output_type": "stream",
     "text": [
      "arr[0][0] = 1\n",
      "arr[1][2] = 6\n",
      "arr[2][1] = 8\n"
     ]
    }
   ],
   "source": [
    "// Initializing a sample Array\n",
    "public class Test {\n",
    "\n",
    "    public static void main(String[] args) {\n",
    " \n",
    "       int[][] arr = {\n",
    "          { 1, 2, 3 },\n",
    "          { 4, 5, 6 },\n",
    "          { 7, 8, 9 }\n",
    "       };\n",
    " \n",
    "       System.out.println(\"arr[0][0] = \" + arr[0][0]);\n",
    "       System.out.println(\"arr[1][2] = \" + arr[1][2]);\n",
    "       System.out.println(\"arr[2][1] = \" + arr[2][1]);\n",
    "       \n",
    "    }\n",
    " \n",
    " }\n",
    " Test.main(null);"
   ]
  },
  {
   "cell_type": "markdown",
   "metadata": {},
   "source": [
    "## Nested Loops\n",
    "- Can be used to traverse a 2D array "
   ]
  },
  {
   "cell_type": "code",
   "execution_count": 2,
   "metadata": {},
   "outputs": [
    {
     "name": "stdout",
     "output_type": "stream",
     "text": [
      "a f g l  \n",
      "b e h k  \n",
      "c d i j  \n"
     ]
    }
   ],
   "source": [
    "// Example of a nested loop for traversing an array\n",
    "public class Test {\n",
    "\n",
    "    public static void main(String[] args) {\n",
    " \n",
    "      String[][] arr = {\n",
    "         { \"a\", \"f\", \"g\", \"l\" },\n",
    "         { \"b\", \"e\", \"h\", \"k\" },\n",
    "         { \"c\", \"d\", \"i\", \"j\" }\n",
    "      };\n",
    " \n",
    "      for (int row = 0; row < 3; row++) {\n",
    "         for (int col = 0; col < 4; col++) {\n",
    "            System.out.print(arr[row][col] + \" \");\n",
    "         }\n",
    "        System.out.println(\" \");\n",
    "      }\n",
    "       \n",
    "    }\n",
    " \n",
    " }\n",
    " Test.main(null);"
   ]
  },
  {
   "cell_type": "markdown",
   "metadata": {},
   "source": [
    "# Unit 9 Inheritance\n",
    "## Notes of Key Concepts \n",
    "- Each class can extend from it's base class\n",
    "- When a class extends from its base class, it inherits the methods and other attributes\n",
    "- ***Protected:*** an access modifier so that the attribute isn't affected by access modifier that isn't affected by outside modifiers\n",
    "- If the attributes of the subclass are exactly the same as the attributes of the superclass, then we can just use the constructor of the superclass.\n",
    "- An additional attribute that's added to the subclass class does not have to be added to the superclass if it does not apply to it\n",
    "- Overriding methods allows the subclass to provide specific implementation of a method \n",
    "    - Has to be already provided by the super-class\n",
    "- If a method in a subclass has the same name, same parameters or signature, and same return type as a method in its super-class, then the method in the subclass will override the method in the super-class.\n",
    "- ***Uses of the super keyword***\n",
    "    - Use constructors in the superclass\n",
    "    - Use the methods in the superclass in the child class\n",
    "- You can use a inheritance hierarchy to organize references\n",
    "- ***Polymorphism:*** You can do one action many ways \n",
    "    - ***Runtime Polymorphism:*** method overriding\n",
    "    - ***Compile Time Polymorphism:*** also using method overrloading\n",
    "- Object class is the superclass of all other classes in Java\n",
    "- ***toString Method:*** Prints out the attributes of an object and converts a string object to string\n",
    "- ***equals Method:*** Compares two strings and returns a boolean value of true if equal"
   ]
  },
  {
   "cell_type": "markdown",
   "metadata": {},
   "source": [
    "# Unit 10 Recursion\n",
    "## Learning Objectives \n",
    "- Learn about how to write simple recursive methods and determine the purpose or output of a recursive method by tracing\n",
    "- Determine the result of recursive method calls\n",
    "- Primarily in the multiple choice section; students were asked to determine the result or describe the behavior of a recursive method\n",
    "- 5 to 7.5% exam weighting"
   ]
  },
  {
   "cell_type": "markdown",
   "metadata": {},
   "source": [
    "## 10.1 Recursion\n",
    "- A recursive method is a method that calls itself - a subproblem that calls itself repeatedly\n",
    "- To parts to the method: \n",
    "    - a base case \n",
    "    - recursive call \n",
    "- After multiple calls, the base case is reached where recursion is stopped and a value is returned\n",
    "    - Should be written first to avoid infinite recursion\n",
    "- Recursions are similar to loops - recursions can be written as loops\n",
    "- Iteration vs. Recursion:\n",
    "    - Iteration is used when we execute a set of instructions repeatedly (through a loop) until the condition becomes false\n",
    "    - Recursion is used when the solution to a bigger problem can be expressed in terms of smaller problems\n",
    "    - Main Difference: recursion uses function calls vs. iteration uses for and while loops\n",
    "\n",
    "## 10.2 Binary Search\n",
    "- Binary search algorithm\n",
    "    - Data must be in sorted order\n",
    "    - Keeps halving array until value is found\n",
    "    - More efficient than linear search (O(log2n) vs O(n))\n",
    "\n",
    "## Selection Sort\n",
    "- Linear Recursion:\n",
    "    - A function that only makes a single call to itself each time the function runs (as opposed to one that would call itself multiple times during its execution)\n",
    "- Selection Sort:\n",
    "    - The algorithm works by repeatedly finding the minimum element (considering ascending order) from the unsorted part and putting it at the end of the sorted part\n",
    "\n",
    "## Merge Sort\n",
    "- Can be used to sort ArrayList structures\n",
    "- Uses a Divide and Conquer algorithm\n",
    "- It divides the input array into two halves, calls itself for the two halves, and then merges the two sorted halves\n",
    "- merge() function is used for merging two halves"
   ]
  }
 ],
 "metadata": {
  "kernelspec": {
   "display_name": "Java",
   "language": "java",
   "name": "java"
  },
  "language_info": {
   "codemirror_mode": "java",
   "file_extension": ".jshell",
   "mimetype": "text/x-java-source",
   "name": "java",
   "pygments_lexer": "java",
   "version": "11.0.16+8-post-Ubuntu-0ubuntu120.04"
  },
  "orig_nbformat": 4
 },
 "nbformat": 4,
 "nbformat_minor": 2
}
