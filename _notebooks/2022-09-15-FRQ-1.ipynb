{
 "cells": [
  {
   "cell_type": "markdown",
   "metadata": {},
   "source": [
    "# 2021 Practice FRQ\n",
    "- toc: true \n",
    "- badges: true\n",
    "- comments: true\n",
    "- categories: [jupyter]\n",
    "- image: images/chart-preview.png"
   ]
  },
  {
   "cell_type": "markdown",
   "metadata": {},
   "source": [
    "# 2021 Practice FRQ: Problem 1\n"
   ]
  },
  {
   "cell_type": "markdown",
   "metadata": {},
   "source": [
    "a) Write the WordMatch method scoreGuess. To determine the score to be returned, scoreGuess finds the number of times that guess occurs as a substring of secret and then multiplies that number by the square of the length of guess. Occurrences of guess may overlap\n",
    "within secret.\n",
    "Assume that the length of guess is less than or equal to the length of secret and that guess is not an empty string. \n",
    " \n",
    "b) Write the WordMatch method findBetterGuess, which returns the better guess of its two String parameters, guess1 and guess2. If the scoreGuess method returns different values for guess1 and guess2, then the guess with the higher score is returned. If the scoreGuess method returns the same value for guess1 and guess2, then the alphabetically greater guess is returned.\n",
    "The following example shows a declaration of a WordMatch object and the outcomes of some possible calls to the scoreGuess and findBetterGuess methods.\n",
    "WordMatch game = new WordMatch(\"concatenation\"); "
   ]
  },
  {
   "cell_type": "code",
   "execution_count": 46,
   "metadata": {
    "vscode": {
     "languageId": "java"
    }
   },
   "outputs": [],
   "source": [
    "public class WordMatch\n",
    "{\n",
    "/** The secret string. */\n",
    "private String secret;\n",
    "/** Constructs a WordMatch object with the given secret string of lowercase letters. */\n",
    "\n",
    "public WordMatch(String word)\n",
    "{\n",
    "/* implementation not shown */\n",
    "}\n",
    "/** Returns a score for guess, as described in part (a).\n",
    "* Precondition: 0 < guess.length() <= secret.length()\n",
    "*/\n",
    "public int scoreGuess(String guess)\n",
    "{\n",
    "    int result = 0;\n",
    "\n",
    "    for (int a = 0; a < secret.length(); a++)\n",
    "    {\n",
    "        if(secret.substring(a).indexOf(guess) == 0)\n",
    "        {\n",
    "            result++; \n",
    "        }\n",
    "    }\n",
    "\n",
    "    return result * guess.length() * guess.length();\n",
    "}\n",
    "\n",
    "// public int scoreGuess(String guess)\n",
    "// { /* to be implemented in part (a) */ }\n",
    "/** Returns the better of two guesses, as determined by scoreGuess and the rules for a\n",
    "* tie-breaker that are described in part (b).\n",
    "* Precondition: guess1 and guess2 contain all lowercase letters.\n",
    "* guess1 is not the same as guess2.\n",
    "*/\n",
    "public String findBetterGuess(String guess1, String guess2)\n",
    "{\n",
    "    if(scoreGuess(guess1)>scoreGuess(guess2))\n",
    "    {\n",
    "        return guess1; \n",
    "    } \n",
    "\n",
    "    if(scoreGuess(guess2) > scoreGuess(guess1))\n",
    "    {\n",
    "        return guess2; \n",
    "    }\n",
    "    \n",
    "    if(guess1.compareTo(guess2) > 0 )\n",
    "    {\n",
    "        return guess1;\n",
    "    }\n",
    "    \n",
    "    return guess2; \n",
    "}\n",
    "}\n"
   ]
  },
  {
   "cell_type": "markdown",
   "metadata": {},
   "source": [
    "## Testing the Code"
   ]
  }
 ],
 "metadata": {
  "kernelspec": {
   "display_name": "Java",
   "language": "java",
   "name": "java"
  },
  "language_info": {
   "codemirror_mode": "java",
   "file_extension": ".jshell",
   "mimetype": "text/x-java-source",
   "name": "Java",
   "pygments_lexer": "java",
   "version": "11.0.16+8-post-Ubuntu-0ubuntu120.04"
  },
  "vscode": {
   "interpreter": {
    "hash": "916dbcbb3f70747c44a77c7bcd40155683ae19c65e1c03b4aa3499c5328201f1"
   }
  }
 },
 "nbformat": 4,
 "nbformat_minor": 2
}
