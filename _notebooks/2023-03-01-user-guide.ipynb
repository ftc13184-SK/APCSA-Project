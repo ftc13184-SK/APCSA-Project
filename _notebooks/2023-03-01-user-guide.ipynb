{
 "cells": [
  {
   "attachments": {},
   "cell_type": "markdown",
   "metadata": {},
   "source": [
    "# Github Procedures\n",
    "- toc: true \n",
    "- badges: true\n",
    "- comments: true\n",
    "- categories: [jupyter, PBL]\n",
    "- image: images/chart-preview.png"
   ]
  },
  {
   "attachments": {},
   "cell_type": "markdown",
   "metadata": {},
   "source": [
    "# Contributing\n",
    "\n",
    "## Commit Policy\n",
    "1. Multiple people should not be adding code to or working on the same file at the same time.\n",
    "    If this happens you might get even more errors, ultimately leading one person's code to get erased or break\n",
    "2. Do not change the formatting of (reorganize) any existing folders or files without prior discussion\n",
    "3. Make sure that you have first pulled and merged before making a commit.\n",
    "    Otherwise you might get an error to clean your VSCode repository and you won't be able push and pull\n",
    "    Don't push the Gemfile\n",
    "4. Do not commit files that you don't remember changing or files with broken code.\n",
    "5. Make sure to resolve any conflicts when you pull or push\n",
    "    Otherwise these errors will be transferred over to others' code too if they pull\n",
    "6. If you do need to commit code with some problems, save it to a separate branch instead of the master.\n",
    "7. If you are trying to test code in the same repository that is causing problems, transfer to a new branch to test locally\n",
    "8. Each main feature should be worked on through a separate branch designated for that feature. All commits regarding that feature should be made only to that branch.\n",
    "   * Branches should only be used for large project features (don't make a new branch for cb work or about pages unless necessary)\n",
    "   * When that feature is completely working, you must create a pull request that will be reviewed before merging the branch with the master\n",
    "\n",
    "## Making Commits\n",
    "1. Always commit after each small change so that you are able to be more specific with your commit messages and no problems are caused\n",
    "1. Try to make each commit focused on a specific feature. Break apart large commits based on those specific features.\n",
    "2. Make sure all of your commmits have clear descriptions that explain the changes made\n",
    "  * When updating the ReadMe, include a description when making significant changes.\n",
    "3. You should be aiming commit your working code each day after or during class. \n",
    "    Check insights on GitHub!\n",
    "\n",
    "## Cloning a Repository\n",
    "1. Go to the repository in Github and to the code tab\n",
    "2. Select the green code button and make sure you are in the HTTPS tab\n",
    "3. Copy the link \n",
    "4. Go to VSCode (make sure you are in WSL if on Windows) and select the clone a repository on the homepage and paste the link to clone\n",
    "\n",
    "## How to Commit and Pull\n",
    "1. To commit, go to the source control tab on the left hand side and press commit, making sure to write a descriptive commit message\n",
    "2. To pull, go to the bottom of the screen and press the circle of errors which will pull any commits made (that were pushed) from other devices"
   ]
  }
 ],
 "metadata": {
  "kernelspec": {
   "display_name": "Java",
   "language": "java",
   "name": "java"
  },
  "language_info": {
   "name": "java",
   "version": "3.8.10 (default, Jun 22 2022, 20:18:18) \n[GCC 9.4.0]"
  },
  "orig_nbformat": 4,
  "vscode": {
   "interpreter": {
    "hash": "916dbcbb3f70747c44a77c7bcd40155683ae19c65e1c03b4aa3499c5328201f1"
   }
  }
 },
 "nbformat": 4,
 "nbformat_minor": 2
}
