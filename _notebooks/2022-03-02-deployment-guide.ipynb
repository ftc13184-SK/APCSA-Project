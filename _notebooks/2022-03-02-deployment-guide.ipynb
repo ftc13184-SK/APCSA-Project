{
 "cells": [
  {
   "attachments": {},
   "cell_type": "markdown",
   "metadata": {},
   "source": [
    "# Github and Project Best Practices\n",
    "- toc: true \n",
    "- badges: true\n",
    "- comments: true\n",
    "- categories: [jupyter, PBL]\n",
    "- image: images/chart-preview.png"
   ]
  },
  {
   "attachments": {},
   "cell_type": "markdown",
   "metadata": {},
   "source": [
    "# Making a Project\n",
    "\n",
    "## 1. Gathering an Idea and Brainstorming\n",
    "\n",
    "Before you start to code, make sure everyone in your group is interested in your project. Try to come up with multiple different ideas and narrow it down to the one that gorup members are most interested in and is the most attainable\n",
    "\n",
    "## 2. Planning\n",
    "\n",
    "Start designing your website based on the requirments and your ideas. Make sure to clearly detail each page of your project and the color scheme of the website. \n",
    "\n",
    "Tools for designing: Google Slides, Canva, Figma, etc.\n",
    "\n",
    "## 3. Tracking your progress\n",
    "\n",
    "Use **GitHub Issues** to create and track progress on requirments as well as note any major changes to the project\n",
    "\n",
    "    1. In your repository, click the `Issues` tab \n",
    "    2. Click `New Issue`\n",
    "    3. Create a title for your issue, making sure to be detailed. Add links from your code or any other resources\n",
    "    4. To collaborate on a project, assign others to the issue\n",
    "\n",
    "Use Github pages to make weekly blogs about your progress, including technical details about what went well and what you could improve on, making the goals for the next week clear.\n",
    "\n",
    "Use a Scrum Board to assign weekly tasks to each person and keep track of what is being completed.\n",
    "\n",
    "## Projects\n",
    "\n",
    "Steps to create your project and collaborate\n",
    "    1. In your project, navigate to projects,, and create a new project.\n",
    "    2. Add a project description and readme (you can update your readmme as you go). \n",
    "    4. Once you've created your poject, you can add columns to organize issues for your project's repositories\n",
    "        For example, frontend and backend repositories or other repositories to test"
   ]
  },
  {
   "attachments": {},
   "cell_type": "markdown",
   "metadata": {},
   "source": [
    "# 3. Development \n",
    "\n",
    "Make sure to install the GitHub extension with VS Code so that you can use the two platforms together.\n",
    "\n",
    "1. **Fork** the main project repository. This will give you a copy of the upstream repo, allowing you to iterate on ideas before merging your changes into the main project. \n",
    "\n",
    "In the repository, click on fork:\n",
    "\n",
    "2. **Clone** the forked repository onto your local system. This is the copy of the code that you will be working with. This also makes it so that you are able to test locally\n",
    "    You can also navigate to vs code directly (making sure to be in wsl for Windows) and click \"Clone from a Git Repository\" to clone\n",
    "\n",
    "3. Enter your project's directory, and open the project in VS Code. \n",
    "\n",
    "4. If you make any changes, first stage them. Then, commit them. This will assign your changes to a \"commit\", making them easier to keep track of. Make sure to push before you pull to prevent running into any errors\n",
    "    Make sure to commit frequently and add a descriptive commit messages so you can find that commit if necessary\n",
    "\n",
    "5. Push your changes to your forked repository. \n",
    "\n",
    "## Branching\n",
    "\n",
    "Instead of pushing all of your changes to the ``main`` branch, it's good practice to work on a separate branch specifically dedicated to the feature you are testing. When you switch branches, your commits will be saved to the branch you have checked out. \n",
    "\n",
    "To switch branches, use the command:\n",
    "``git checkout <name of branch>``\n",
    "\n",
    "For more details on this, use <a href=\"https://docs.github.com/en/pull-requests/collaborating-with-pull-requests/proposing-changes-to-your-work-with-pull-requests/creating-and-deleting-branches-within-your-repository\">this</a>. \n",
    "\n",
    "## Pull Requests\n",
    "Once you're ready to merge your changes with the main upstream repository, you can create a Pull Request\n",
    "\n",
    "<a href=\"https://docs.github.com/en/pull-requests/collaborating-with-pull-requests/proposing-changes-to-your-work-with-pull-requests/creating-a-pull-request\">Tutorial Source</a>\n",
    "\n",
    "1. Navigate to the branch with the changes you want to merge. \n",
    "\n",
    "2. Click ``Pull Request`` above the list of files. \n",
    "\n",
    "3. Make sure your pull request has the main repository of the upstream branch as the ``base``. Double check you are on the right branch.\n",
    "\n",
    "4. Add a title and description to your pull request, and create it. Document the changes that you made, and include any helpful screenshots/information. \n",
    "\n",
    "5. Your pull requests can be tested or viewed by others to make sure it worksbefore merging to the master branch "
   ]
  },
  {
   "attachments": {},
   "cell_type": "markdown",
   "metadata": {},
   "source": [
    "# 4. Deployment\n",
    "\n",
    "Deployment connects the backend repository to the frontend repository\n",
    "\n",
    "Instructions for AWS Deployment can be found <a href=\"https://nighthawkcoders.github.io/APCSA//techtalk/deploy\">here</a>. \n",
    "\n",
    "Set up automatic deployment for your backend to speed up the development process and test faster. "
   ]
  }
 ],
 "metadata": {
  "kernelspec": {
   "display_name": "Java",
   "language": "java",
   "name": "java"
  },
  "language_info": {
   "name": "java",
   "version": "3.8.10 (default, Jun 22 2022, 20:18:18) \n[GCC 9.4.0]"
  },
  "orig_nbformat": 4,
  "vscode": {
   "interpreter": {
    "hash": "916dbcbb3f70747c44a77c7bcd40155683ae19c65e1c03b4aa3499c5328201f1"
   }
  }
 },
 "nbformat": 4,
 "nbformat_minor": 2
}
