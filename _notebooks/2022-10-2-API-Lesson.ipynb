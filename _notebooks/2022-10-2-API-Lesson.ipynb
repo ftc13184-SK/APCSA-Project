{
 "cells": [
  {
   "cell_type": "markdown",
   "metadata": {},
   "source": [
    "# API Lesson \n",
    "- toc: true \n",
    "- badges: true\n",
    "- comments: true\n",
    "- categories: [jupyter]\n",
    "- image: images/chart-preview.png"
   ]
  },
  {
   "cell_type": "markdown",
   "metadata": {},
   "source": [
    "# What are API's?\n",
    "- Working with APL and ASCii\n",
    "- API: (Application programming interface) a way for multiple computer programs to communcate with each other \n",
    "- EX: a weather station has a software to detect weather daily. This can be displayed on the weather app on your phone. The weather app communicates with the weather station's software program\n",
    "- RapidAPI: Used to connect API's"
   ]
  },
  {
   "cell_type": "markdown",
   "metadata": {},
   "source": [
    "# Questions\n",
    "1. What are the benefits of using API? \n",
    "- Make a way for different softwares/programs to communicate with each other\n",
    "- Make it easier to us the data from others \n",
    "1. Benefits of using backend development? \n",
    "- We can display data collected from other codes\n",
    "- Can be used in our group project"
   ]
  },
  {
   "cell_type": "code",
   "execution_count": null,
   "metadata": {},
   "outputs": [],
   "source": [
    "import java.net.URI;\n",
    "import java.net.http.HttpClient;\n",
    "import java.net.http.HttpRequest;\n",
    "import java.net.http.HttpResponse;\n",
    "\n",
    "//RapidAPI header  https://email-verifier-api.p.rapidapi.com/v2/ \n",
    "HttpRequest request = HttpRequest.newBuilder()\n",
    "    .uri(URI.create(\"https://email-verifier-api.p.rapidapi.com/v2/\"))\n",
    "    .header(\"x-rapidapi-key\", \"dec069b877msh0d9d0827664078cp1a18fajsn2afac35ae063\")\n",
    "    .header(\"x-rapidapi-host\", \"corona-virus-world-and-india-data.p.rapidapi.com\")\n",
    "    .method(\"GET\", HttpRequest.BodyPublishers.noBody())\n",
    "    .build();\n",
    "\n",
    "//RapidAPI request and response\n",
    "HttpResponse<String> response = HttpClient.newHttpClient().send(request, HttpResponse.BodyHandlers.ofString());\n",
    "\n",
    "//RapidAPI Body\n",
    "System.out.println(response.body());"
   ]
  }
 ],
 "metadata": {
  "kernelspec": {
   "display_name": "Java",
   "language": "java",
   "name": "java"
  },
  "language_info": {
   "name": "java",
   "version": "3.8.10"
  },
  "orig_nbformat": 4,
  "vscode": {
   "interpreter": {
    "hash": "916dbcbb3f70747c44a77c7bcd40155683ae19c65e1c03b4aa3499c5328201f1"
   }
  }
 },
 "nbformat": 4,
 "nbformat_minor": 2
}
