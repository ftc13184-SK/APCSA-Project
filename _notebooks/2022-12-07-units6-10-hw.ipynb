{
 "cells": [
  {
   "cell_type": "markdown",
   "metadata": {},
   "source": [
    "# Units 6-10 Homework\n",
    "- toc: true \n",
    "- badges: true\n",
    "- comments: true\n",
    "- categories: [jupyter]\n",
    "- image: images/chart-preview.png"
   ]
  },
  {
   "cell_type": "markdown",
   "metadata": {},
   "source": [
    "# Unit 6: Arrays\n",
    "- The unit I taught"
   ]
  },
  {
   "cell_type": "markdown",
   "metadata": {},
   "source": [
    "# Unit 7: ArrayLists\n",
    "## Hack 1"
   ]
  },
  {
   "cell_type": "code",
   "execution_count": null,
   "metadata": {
    "vscode": {
     "languageId": "java"
    }
   },
   "outputs": [],
   "source": [
    "// HACK!!!!\n",
    "// Create an arrayList and use one of the cool methods for it\n",
    "\n",
    "import java.util.ArrayList; \n",
    "\n",
    "public class hack1 {\n",
    "    public static void main (String[] args) {\n",
    "        ArrayList<String>\n",
    "        color.add(red); \n",
    "        color.add(blue); \n",
    "       \n",
    "    }\n",
    "}\n",
    "\n",
    "hack1.main(null);"
   ]
  },
  {
   "cell_type": "markdown",
   "metadata": {},
   "source": [
    "## Hack 2"
   ]
  },
  {
   "cell_type": "code",
   "execution_count": null,
   "metadata": {
    "vscode": {
     "languageId": "java"
    }
   },
   "outputs": [],
   "source": [
    "import java.util.ArrayList;\n",
    "\n",
    "public class main{\n",
    "    public static void main(String[] args) {\n",
    "        ArrayList<String> color = new ArrayList<String>(); \n",
    "        color.add(\"red apple\");\n",
    "        color.add(\"green box\");\n",
    "        color.add(\"blue water\");\n",
    "        color.add(\"red panda\");\n",
    "        for (int i = 0; i < color.size(); i++) {\n",
    "            if (color.get(i).contains(\"red\")) {\n",
    "                color.remove(i);\n",
    "            }\n",
    "        }\n",
    "\n",
    "        for (int i = 0; i < color.size(); i++){\n",
    "            System.out.println(color.get(i) + \" \");\n",
    "        }\n",
    "    }\n",
    "\n",
    "}"
   ]
  },
  {
   "cell_type": "markdown",
   "metadata": {},
   "source": [
    "## Hack 3"
   ]
  },
  {
   "cell_type": "code",
   "execution_count": null,
   "metadata": {
    "vscode": {
     "languageId": "java"
    }
   },
   "outputs": [],
   "source": [
    "// Hack #3\n",
    "// find the sum of the elements in the arraylist\n",
    "\n",
    "ArrayList<Integer> num = new ArrayList<Integer>(); \n",
    "\n",
    "num.add(5);\n",
    "num.add(1);\n",
    "num.add(3);\n",
    "int count = 0;\n",
    "\n",
    "for ( int n : num) {\n",
    "    count = count + n;\n",
    "}\n",
    "\n",
    "System.out.print(count);"
   ]
  },
  {
   "cell_type": "markdown",
   "metadata": {},
   "source": [
    "# Unit 8: 2-D Arrays\n",
    "## Hack 1"
   ]
  },
  {
   "cell_type": "code",
   "execution_count": null,
   "metadata": {
    "vscode": {
     "languageId": "java"
    }
   },
   "outputs": [],
   "source": [
    "public class Test {\n",
    "\n",
    "    public static void main(String[] args) {\n",
    " \n",
    "      String[][] arr = {\n",
    "         { \"a\", \"f\", \"g\" },\n",
    "         { \"b\", \"e\", \"h\" },\n",
    "         { \"c\", \"d\", \"i\" }\n",
    "      };\n",
    " \n",
    "      // Print the last element in the array!\n",
    "      System.out.println(arr[arr. length-1][arr[0]. length-1]);\n",
    "\n",
    "    }\n",
    " \n",
    " }\n",
    " Test.main(null);"
   ]
  },
  {
   "cell_type": "markdown",
   "metadata": {},
   "source": [
    "## Hack 2"
   ]
  },
  {
   "cell_type": "code",
   "execution_count": null,
   "metadata": {
    "vscode": {
     "languageId": "java"
    }
   },
   "outputs": [],
   "source": [
    "public class Test {\n",
    "\n",
    "    public static void main(String[] args) {\n",
    " \n",
    "      String[][] arr = {\n",
    "         { \"Atlanta\", \"Baltimore\", \"Chicago\" },\n",
    "         { \"Australia\", \"Boston\", \"Cincinnati\" },\n",
    "         { \"Austin\", \"Beaumont\", \"Columbus\" }\n",
    "      };\n",
    " \n",
    "       // Change Austin to Athens and print!\n",
    "       arr[2][0] = \"Athens\";\n",
    "       System.out.println(arr[2][0]);       \n",
    "    }\n",
    " \n",
    " }\n",
    " Test.main(null);"
   ]
  },
  {
   "cell_type": "markdown",
   "metadata": {},
   "source": [
    "## Hack 3"
   ]
  },
  {
   "cell_type": "code",
   "execution_count": null,
   "metadata": {
    "vscode": {
     "languageId": "java"
    }
   },
   "outputs": [],
   "source": [
    "public class Test {\n",
    "\n",
    "    public static void main(String[] args) {\n",
    " \n",
    "       String[][] arr = {\n",
    "          { \"Atlanta\", \"Baltimore\", \"Chicago\" },\n",
    "          { \"Australia\", \"Boston\", \"Cincinnati\" },\n",
    "          { \"Austin\", \"Beaumont\", \"Columbus\" }\n",
    "       };\n",
    " \n",
    "       // Print out the array without using numerical values!\n",
    "       int r = arr.length; \n",
    "       int c = arr[0].length;\n",
    "\n",
    "       for (int row = 0; row < r; row++) {\n",
    "         for (int col = 0; col < c; col++){\n",
    "            System.out.print(arr[row][col] + \", \" );\n",
    "         }\n",
    "       }\n",
    "       \n",
    "    }\n",
    " \n",
    " }\n",
    " Test.main(null);"
   ]
  },
  {
   "cell_type": "markdown",
   "metadata": {},
   "source": [
    "## Hack 4"
   ]
  },
  {
   "cell_type": "code",
   "execution_count": null,
   "metadata": {
    "vscode": {
     "languageId": "java"
    }
   },
   "outputs": [],
   "source": [
    "public class Test {\n",
    "\n",
    "    public static void main(String[] args) {\n",
    "  \n",
    "        String[][] arr = {\n",
    "            { \"Atlanta\", \"Baltimore\", \"Chicago\" },\n",
    "            { \"Australia\", \"Boston\", \"Cincinnati\" },\n",
    "            { \"Austin\", \"Beaumont\", \"Columbus\" }\n",
    "        };\n",
    "\n",
    "        String longest = arr[0][0];\n",
    "\n",
    "        // Use nested for loops to find the longest or shortest string!\n",
    "    int r = arr.length; \n",
    "    int c = arr[0].length;\n",
    "    \n",
    "    for (int row = 0; row < r; row++){\n",
    "        for (int col=0; col<c; col++){\n",
    "            if(arr[row][col].length()> longest.length()){\n",
    "                longest = arr[row][col]; \n",
    "            }\n",
    "        }\n",
    "    }\n",
    "        System.out.print(longest); \n",
    "    }\n",
    " \n",
    " }\n",
    "Test.main(null);"
   ]
  },
  {
   "cell_type": "markdown",
   "metadata": {},
   "source": [
    "## Extra Credit Hack: Making a Christmas Tree"
   ]
  },
  {
   "cell_type": "code",
   "execution_count": null,
   "metadata": {
    "vscode": {
     "languageId": "java"
    }
   },
   "outputs": [],
   "source": [
    "public class Tree {\n",
    "\n",
    "    public static voild main(String args[]) {\n",
    "        String[][] tree = {\n",
    "            {\" \" ,\" \", \" \", \"*\", \" \", \" \", \" \"}\n",
    "            {\" \" ,\" \", \"*\", \"*\", \"*\", \" \", \" \"}\n",
    "            {\" \" ,\"*\", \"*\", \"*\", \"*\", \"*\", \" \"}\n",
    "            {\"*\" ,\"*\", \"*\", \"*\", \"*\", \"*\", \"*\"}\n",
    "            {\" \" ,\" \", \" \", \"M\", \" \", \" \", \" \"}\n",
    "        }; \n",
    "\n",
    "        int r = tree.length; \n",
    "        int c = tree[0].length; \n",
    "\n",
    "        for (int row = 0; row < r; row++){\n",
    "            for (int col = 0; col < c; col++){\n",
    "                System.out.print(tree[row][col]);\n",
    "            }\n",
    "            System.out.println(\" \");\n",
    "        }\n",
    "    }\n",
    "}\n",
    "\n",
    "Tree.main(null); "
   ]
  },
  {
   "cell_type": "markdown",
   "metadata": {
    "vscode": {
     "languageId": "java"
    }
   },
   "source": [
    "# Unit 10\n",
    "## Hack 1 "
   ]
  },
  {
   "cell_type": "code",
   "execution_count": 6,
   "metadata": {
    "vscode": {
     "languageId": "java"
    }
   },
   "outputs": [
    {
     "name": "stdout",
     "output_type": "stream",
     "text": [
      "24\n"
     ]
    }
   ],
   "source": [
    "public class output {\n",
    "    public static int foo(int a, int b){\n",
    "        if(b<=1||b<=a){\n",
    "            return 1;\n",
    "        } \n",
    "        return(b-a)*foo(a,b-1);\n",
    "    }\n",
    "    public static void main(String[] args){\n",
    "        System.out.println(foo(5,9));\n",
    "    }\n",
    "    \n",
    "}\n",
    "output.main(null);"
   ]
  }
 ],
 "metadata": {
  "kernelspec": {
   "display_name": "Java",
   "language": "java",
   "name": "java"
  },
  "language_info": {
   "codemirror_mode": "java",
   "file_extension": ".jshell",
   "mimetype": "text/x-java-source",
   "name": "Java",
   "pygments_lexer": "java",
   "version": "11.0.16+8-post-Ubuntu-0ubuntu120.04"
  },
  "orig_nbformat": 4,
  "vscode": {
   "interpreter": {
    "hash": "916dbcbb3f70747c44a77c7bcd40155683ae19c65e1c03b4aa3499c5328201f1"
   }
  }
 },
 "nbformat": 4,
 "nbformat_minor": 2
}
