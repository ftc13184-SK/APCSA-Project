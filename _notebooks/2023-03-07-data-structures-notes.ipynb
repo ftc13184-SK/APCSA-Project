{
 "cells": [
  {
   "attachments": {},
   "cell_type": "markdown",
   "metadata": {},
   "source": [
    "# FRQ 3\n",
    "- toc: true \n",
    "- badges: true\n",
    "- comments: true\n",
    "- categories: [jupyter, FRQs]\n",
    "- image: images/chart-preview.png"
   ]
  },
  {
   "attachments": {},
   "cell_type": "markdown",
   "metadata": {},
   "source": [
    "# Data Types in Java\n",
    "- used to define the type of data that a variable can hold\n",
    "- main types of data types\n",
    "- Primitive data types\n",
    "    - byte: 8-bit signed integer (-128 to 127\n",
    "    - short: 16-bit signed integer (-32,768 to 32,767)\n",
    "int: 32-bit signed integer (-2,147,483,648 to 2,147,483,647)\n",
    "long: 64-bit signed integer (-9,223,372,036,854,775,808 to 9,223,372,036,854,775,807)\n",
    "float: 32-bit floating-point number (1.4e-45 to 3.4e+38)\n",
    "double: 64-bit floating-point number (4.9e-324 to 1.8e+308)\n",
    "boolean: true or false\n",
    "char: 16-bit Unicode character (0 to 65,535)\n"
   ]
  },
  {
   "cell_type": "code",
   "execution_count": 1,
   "metadata": {
    "vscode": {
     "languageId": "java"
    }
   },
   "outputs": [],
   "source": [
    "import java.util.Scanner;\n",
    "\n",
    "public class Binary {\n",
    "\n",
    "\tprivate static Scanner sc;\n",
    "\t\n",
    "\tpublic static void main(String[] args) {\n",
    "\n",
    "\t\tsc = new Scanner(System.in);\n",
    "\t\t\n",
    "\t\tSystem.out.println(\"Enter The First and Second Numbers = \");\t\n",
    "\t\tlong b1 = sc.nextLong();\n",
    "\t\tlong b2 = sc.nextLong();\n",
    "\t\t\n",
    "\t\tint i, carry = 0;\n",
    "\t\t\n",
    "\t\tint[] sum = new int[10];\n",
    "\t\t\n",
    "\t\tfor(i = 0; b1 != 0 || b2 != 0; b1 /= 10, b2 /= 10)\n",
    "\t\t{\n",
    "\t\t\tsum[i++] = (int)((b1 % 10 + b2 % 10 + carry) % 2);\n",
    "\t\t\tcarry    = (int)((b1 % 10 + b2 % 10 + carry) / 2);\t\t\n",
    "\t\t}\n",
    "\t\tif(carry != 0)\n",
    "\t\t{\n",
    "\t\t\tsum[i++] = carry;\n",
    "\t\t}\n",
    "\t\t--i;\n",
    "\t\tSystem.out.print(\"\\nThe Sum = \");\n",
    "\t\twhile(i >= 0)\n",
    "\t\t{\n",
    "\t\t\tSystem.out.print(sum[i--]);\n",
    "\t\t}\n",
    "\t\tSystem.out.println();\n",
    "\t}\n",
    "\n",
    "}"
   ]
  },
  {
   "cell_type": "code",
   "execution_count": null,
   "metadata": {
    "vscode": {
     "languageId": "java"
    }
   },
   "outputs": [],
   "source": [
    "public static void main twoBinary\n",
    "\n",
    "{\n",
    "\n",
    "Integer.toBinaryString(sum);\n",
    "}"
   ]
  }
 ],
 "metadata": {
  "kernelspec": {
   "display_name": "Java",
   "language": "java",
   "name": "java"
  },
  "language_info": {
   "codemirror_mode": "java",
   "file_extension": ".jshell",
   "mimetype": "text/x-java-source",
   "name": "Java",
   "pygments_lexer": "java",
   "version": "11.0.16+8-post-Ubuntu-0ubuntu120.04"
  },
  "orig_nbformat": 4
 },
 "nbformat": 4,
 "nbformat_minor": 2
}
