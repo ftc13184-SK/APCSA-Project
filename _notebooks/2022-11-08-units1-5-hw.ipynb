{
 "cells": [
  {
   "cell_type": "markdown",
   "metadata": {},
   "source": [
    "# Units 1-5 Homework\n",
    "- toc: true \n",
    "- badges: true\n",
    "- comments: true\n",
    "- categories: [jupyter, Class Lessons]\n",
    "- image: images/chart-preview.png"
   ]
  },
  {
   "cell_type": "markdown",
   "metadata": {},
   "source": [
    "# Units 1-5 Vocabulary\n",
    "## Creating a Class, describe Naming Conventions (Related to Unit 5: Writing Classes)\n",
    "Naming convention is lowercase first word then any words after that should be title case. A class is a set of objects that have common methods and attributes. Class is a blueprint for objects. Class has groups of variables and group of methods. To create a class use the word class and specify the access modifier. \n",
    "\n",
    "Syntax: access_modifier class <class_name>\n",
    "\n",
    "Class declarations can have modifiers, class keywords, class names, superclasses, or interfaces."
   ]
  },
  {
   "cell_type": "code",
   "execution_count": null,
   "metadata": {},
   "outputs": [],
   "source": [
    "public class Students{\n",
    "    // Body of the class\n",
    "}\n",
    "\n",
    "private class studentIDs{\n",
    "    // Body of the Class\n",
    "}"
   ]
  },
  {
   "cell_type": "markdown",
   "metadata": {},
   "source": [
    "## Casting, specifically for Truncating or Rounding\n",
    "- Assigning one value of a primititve data type to another data type"
   ]
  },
  {
   "cell_type": "code",
   "execution_count": 7,
   "metadata": {},
   "outputs": [],
   "source": [
    "public class main\n",
    "{\n",
    "    public static void main(String[] args) {\n",
    "        double myDouble = 3.14; \n",
    "        int myData = (int) myType; \n",
    "    }\n",
    "}"
   ]
  },
  {
   "cell_type": "markdown",
   "metadata": {},
   "source": [
    "## Accessor methods, relationship to getter (Related to Unit 5: Writing Classes)\n",
    "An accessor method is a method that gets private data that is sotred in an object. This allows a way to get the value of each instance variable from outside of the class. Allows data use in other places than just the class that it was declared in. Accessor methods are know as getters. (Similar to how an API gets a response from a request sent from outside of the API)"
   ]
  },
  {
   "cell_type": "code",
   "execution_count": 29,
   "metadata": {},
   "outputs": [
    {
     "name": "stdout",
     "output_type": "stream",
     "text": [
      "Name:Skyler\n",
      "Email:skyler@sky.com\n",
      "ID: 123456\n"
     ]
    }
   ],
   "source": [
    "public class TesterClass\n",
    "{\n",
    "   // main method for testing\n",
    "   public static void main(String[] args)\n",
    "   {\n",
    "      Student s1 = new Student(\"Skyler\", \"skyler@sky.com\", 123456);\n",
    "      System.out.println(\"Name:\" +  s1.getName() );\n",
    "      System.out.println(\"Email:\" +  s1.getEmail() );\n",
    "      System.out.println(\"ID: \" + s1.getId() );\n",
    "   }\n",
    " }\n",
    "/** Class Student keeps track of name, email, and id of a Student. */\n",
    "class Student\n",
    "{\n",
    "   private String name;\n",
    "   private String email;\n",
    "   private int id;\n",
    "\n",
    "   public Student(String initName, String initEmail, int initId)\n",
    "   {\n",
    "      name = initName;\n",
    "      email = initEmail;\n",
    "      id = initId;\n",
    "   }\n",
    "\n",
    "   // accessor methods - getters\n",
    "   /** getName()  @return name */\n",
    "   public String getName()\n",
    "   {\n",
    "      return name;\n",
    "   }\n",
    "   /** getEmail()  @return email */\n",
    "   public String getEmail()\n",
    "   {\n",
    "      return email;\n",
    "   }\n",
    "   /** getName()  @return id */\n",
    "   public int getId()\n",
    "   {\n",
    "      return id;\n",
    "   }\n",
    "}\n",
    "\n",
    "TesterClass.main(null);"
   ]
  },
  {
   "cell_type": "markdown",
   "metadata": {},
   "source": [
    "## Concatenation, explain or illustrate rules on mixed type Concatenation\n",
    "- You can use + to combine words like this:\n",
    "``` java\n",
    "\"I'm a\" + \" person\"\n",
    "```"
   ]
  },
  {
   "cell_type": "code",
   "execution_count": 8,
   "metadata": {},
   "outputs": [
    {
     "name": "stdout",
     "output_type": "stream",
     "text": [
      "i am a person\n"
     ]
    }
   ],
   "source": [
    "// You can use + to print a statement as well: \n",
    "\n",
    "System.out.println(\"i am\" + \" a person\");\n"
   ]
  },
  {
   "cell_type": "code",
   "execution_count": 9,
   "metadata": {},
   "outputs": [
    {
     "name": "stdout",
     "output_type": "stream",
     "text": [
      "My age is 10\n"
     ]
    }
   ],
   "source": [
    "// You can also combine words with integer variables\n",
    "int age = 10;\n",
    "System.out.println(\"My age is \" + age);"
   ]
  },
  {
   "cell_type": "code",
   "execution_count": null,
   "metadata": {},
   "outputs": [],
   "source": [
    "// You can achieve all of this by simply using the Concat Method too\n",
    "\n",
    "public String concat (String str)​ "
   ]
  },
  {
   "cell_type": "markdown",
   "metadata": {},
   "source": [
    "## Mutator methods, relationship to setter, describe void return type\n",
    "Mutator methods reset the value of a private variable. It gives other classes the ability to modify the value stoed in that variable without having direct access to the variable itself. Allows the user to set/mutate the value of the private variables of a class object. aka setters. Used along with getters to protect sensitive information (private) in a class."
   ]
  },
  {
   "cell_type": "code",
   "execution_count": 30,
   "metadata": {},
   "outputs": [
    {
     "name": "stdout",
     "output_type": "stream",
     "text": [
      "Student Bio [ Before using Accessors & Mutators ]\n",
      "Name: null\tID: null\tGPA: 0.0\tDOB: null\tCourses: null\n",
      "\n",
      "Student Bio [ After using Mutators & Accessors ]\n",
      "Name: Alex Coy\tID: 3115\tGPA: 2.79\tDOB: 08/08/1998\tCourses: [Object Oriented Programming, Cryptography, Photography, Network Security]\n"
     ]
    }
   ],
   "source": [
    "import java.util.Arrays;\n",
    "\n",
    "public class Student {\n",
    "\n",
    "\tprivate String name;\n",
    "\tprivate Integer ID;\n",
    "\tprivate String DOB;\n",
    "\tprivate double GPA;\n",
    "\tprivate String[] courses;\n",
    "\n",
    "\tpublic String getName() {\n",
    "\t\treturn name;\n",
    "\t}\n",
    "\n",
    "\tpublic void setName(String name) {\n",
    "\t\tthis.name = name;\n",
    "\t}\n",
    "\n",
    "\tpublic Integer getID() {\n",
    "\t\treturn ID;\n",
    "\t}\n",
    "\n",
    "\tpublic void setID(Integer iD) {\n",
    "\t\tthis.ID = iD;\n",
    "\t}\n",
    "\n",
    "\tpublic String getDOB() {\n",
    "\t\treturn DOB;\n",
    "\t}\n",
    "\n",
    "\tpublic void setDOB(String dOB) {\n",
    "\t\tthis.DOB = dOB;\n",
    "\t}\n",
    "\n",
    "\tpublic double getGPA() {\n",
    "\t\treturn GPA;\n",
    "\t}\n",
    "\n",
    "\tpublic void setGPA(double gPA) {\n",
    "\t\tthis.GPA = gPA;\n",
    "\t}\n",
    "\n",
    "\tpublic String[] getCourses() {\n",
    "\t\treturn courses;\n",
    "\t}\n",
    "\n",
    "\tpublic void setCourses(String[] courses) {\n",
    "\t\tthis.courses = courses;\n",
    "\t}\n",
    "\n",
    "\tpublic static void main(String[] args) {\n",
    "\n",
    "\t\tStudent student1 = new Student();\n",
    "\n",
    "\t\tSystem.out.println(\"Student Bio [ Before using Accessors & Mutators ]\");\n",
    "\n",
    "\t\t// calling accessor methods\n",
    "\t\tSystem.out.print(\"Name: \" + student1.getName());\n",
    "\t\tSystem.out.print(\"\\tID: \" + student1.getID());\n",
    "\t\tSystem.out.print(\"\\tGPA: \" + student1.getGPA());\n",
    "\t\tSystem.out.print(\"\\tDOB: \" + student1.getDOB());\n",
    "\t\tSystem.out.println(\"\\tCourses: \" +  Arrays.toString(student1.getCourses()));\n",
    "\n",
    "\t\t// calling mutator methods\n",
    "\t\tstudent1.setName(\"Alex Coy\");\n",
    "\t\tstudent1.setID(3115);\n",
    "\t\tstudent1.setGPA(2.79);\n",
    "\t\tstudent1.setDOB(\"08/08/1998\");\n",
    "\t\tString[] courses = { \"Object Oriented Programming\", \"Cryptography\", \"Photography\", \"Network Security\" };\n",
    "\t\tstudent1.setCourses(courses);\n",
    "\n",
    "\t\tSystem.out.println(\"\\nStudent Bio [ After using Mutators & Accessors ]\");\n",
    "\n",
    "\t\t// calling accessor methods\n",
    "\t\tSystem.out.print(\"Name: \" + student1.getName());\n",
    "\t\tSystem.out.print(\"\\tID: \" + student1.getID());\n",
    "\t\tSystem.out.print(\"\\tGPA: \" + student1.getGPA());\n",
    "\t\tSystem.out.print(\"\\tDOB: \" + student1.getDOB());\n",
    "\t\tSystem.out.println(\"\\tCourses: \" + Arrays.toString(student1.getCourses()));\n",
    "\t}\n",
    "}\n",
    "Student.main(null);"
   ]
  },
  {
   "cell_type": "markdown",
   "metadata": {},
   "source": [
    "## Compound Boolean Expression\n",
    "- You can use \"||\" to combine bollean expressions\n",
    "- ! can be used to negate boolean values \n",
    "- If two boolean values/expressions are combined with a logical and (&&) and the first expression is false, then the second expression won’t be executed. \n",
    "- Similaly, if the first expression is false, the result will be false, since both sides of the && need to be true for the result to be true.\n",
    "\n",
    "Below is an example of this"
   ]
  },
  {
   "cell_type": "code",
   "execution_count": 13,
   "metadata": {},
   "outputs": [
    {
     "name": "stdout",
     "output_type": "stream",
     "text": [
      "second case\n"
     ]
    }
   ],
   "source": [
    "int a = 1;\n",
    "int b = 2;\n",
    "\n",
    "if (a > 0 && (b / a) == 3)\n",
    "{\n",
    "   System.out.println(\"first case\");\n",
    "}\n",
    "else\n",
    "{\n",
    "   System.out.println(\"second case\");\n",
    "}"
   ]
  },
  {
   "cell_type": "markdown",
   "metadata": {},
   "source": [
    "## Static variables, Class variables, show use case in code (Relates to Unit 5: Writing Classes)\n",
    "A static variable (same as class variable) is a variable that is declared in the class and can only be used by objects and methods in that class. However it can be used in all instances of the class. Static variabiles can be accessed using class names and they can be accessed by static and non static methods. Only initialized once. The variable belongs to the class. \n",
    "\n",
    "Example of this use is in the math classes we worked with during trimester 1"
   ]
  },
  {
   "cell_type": "code",
   "execution_count": null,
   "metadata": {},
   "outputs": [],
   "source": [
    "public abstract class Fibo {\n",
    "    String name;  // name or title of method\n",
    "    int size;  // nth sequence\n",
    "    int hashID;  // counter for hashIDs in hash map\n",
    "    ArrayList<Long> list;   // captures current Fibonacci sequence\n",
    "    HashMap<Integer, Object> hash;  // captures each sequence leading to final result\n",
    "\n",
    "    // Static variables being initialized once for use throughout the entire class"
   ]
  },
  {
   "cell_type": "markdown",
   "metadata": {},
   "source": [
    "## De Morgan's Law \n",
    "- De Morgan's Law is a way to negate \"and\" or \"or\" statements in code. Below is a demonstration on how the law works"
   ]
  },
  {
   "cell_type": "code",
   "execution_count": 14,
   "metadata": {},
   "outputs": [
    {
     "name": "stdout",
     "output_type": "stream",
     "text": [
      "true\n",
      "true\n"
     ]
    }
   ],
   "source": [
    "import java.util.Scanner;\n",
    "public class deMorgan //define class\n",
    "{\n",
    "    public static void main(String[] args) //java main method\n",
    "{\n",
    "    int a = 0; //initializing variables\n",
    "    int b = 0;\n",
    "\n",
    "    System.out.println(!(a==10 || b==10)); //Will print true if a or b does not equal 10\n",
    "    System.out.println(a!=10 && b!=10); \n",
    "}\n",
    "}\n",
    "deMorgan.main(null);"
   ]
  },
  {
   "cell_type": "markdown",
   "metadata": {},
   "source": [
    "## Static methods, Class methods (Relates to Unit 5: Writing Classes)\n",
    "\n",
    "A static method is a method that belongs to the class and not a specific object of the class. It can only access static data and not non-static data. It can call other static methods and can be accessed by the class name. It cannot refer to \"this\" or \"super\". Static methods are methods that can be called within a program without creating an object of the class"
   ]
  },
  {
   "cell_type": "code",
   "execution_count": 31,
   "metadata": {},
   "outputs": [
    {
     "name": "stdout",
     "output_type": "stream",
     "text": [
      "Value of a = 0\n",
      "Value of b = 1\n",
      "Value of a = 0\n",
      "Value of b = 2\n",
      "Value of a = 0\n",
      "Value of b = 3\n"
     ]
    }
   ],
   "source": [
    "public class Demo{\n",
    "    public static void main(String args[]){\n",
    "      Student s1 = new Student();\n",
    "      s1.showData();\n",
    "      Student s2 = new Student();\n",
    "      s2.showData();\n",
    "      Student.b++;\n",
    "      s1.showData();\n",
    "   }\n",
    " }\n",
    " \n",
    " class Student {\n",
    " int a; //initialized to zero\n",
    " static int b; //initialized to zero only when class is loaded not for each object created.\n",
    " \n",
    "   Student(){\n",
    "    //Constructor incrementing static variable b\n",
    "    b++;\n",
    "   }\n",
    " \n",
    "    public void showData(){\n",
    "       System.out.println(\"Value of a = \"+a);\n",
    "       System.out.println(\"Value of b = \"+b);\n",
    "    }\n",
    " //public static void increment(){\n",
    " //a++;\n",
    " //}\n",
    " \n",
    " }\n",
    " Demo.main(null);"
   ]
  },
  {
   "cell_type": "markdown",
   "metadata": {},
   "source": [
    "## Comparing Strings \n",
    "- There are different ways to compare strings \n",
    "- You can use have th user define the function\n",
    "    - EX: if(string1>string2) a positive value will output \n",
    "- You can also use String.equal() to compare two strings "
   ]
  },
  {
   "cell_type": "code",
   "execution_count": 23,
   "metadata": {},
   "outputs": [],
   "source": [
    "public class Compare {\n",
    "    public static void main(String args[])\n",
    "    {\n",
    "        String string1 = new String(\"Geeksforgeeks\");\n",
    "        String string2 = new String(\"Practice\");\n",
    "\n",
    "        // Comparing for String 1 != String 2\n",
    "        System.out.println(\"Comparing \" + string1 + \" and \" + string2\n",
    "                           + \" : \" + string1.equals(string2));\n",
    "    }\n",
    "}"
   ]
  },
  {
   "cell_type": "markdown",
   "metadata": {},
   "source": [
    "## main method, tester methods \n",
    "The main() method is the starting point for JVM to start executiton of a Java Program. This syntax for it is public static void main(String args[])"
   ]
  },
  {
   "cell_type": "code",
   "execution_count": 32,
   "metadata": {},
   "outputs": [
    {
     "name": "stdout",
     "output_type": "stream",
     "text": [
      "Hello world!"
     ]
    }
   ],
   "source": [
    "public class Demo {\n",
    "    public static void main(String args[]){\n",
    "        System.out.print(\"Hello world!\");\n",
    "    }\n",
    "}\n",
    "Demo.main(null);"
   ]
  },
  {
   "cell_type": "markdown",
   "metadata": {},
   "source": [
    "## For Loops\n",
    "- Used for when you know how many times you want the code to loop\n",
    "- Enhnanced for loops is used with arraylists -> allows conciseness and clearness"
   ]
  },
  {
   "cell_type": "code",
   "execution_count": 24,
   "metadata": {},
   "outputs": [
    {
     "name": "stdout",
     "output_type": "stream",
     "text": [
      "0\n",
      "2\n",
      "4\n",
      "6\n",
      "8\n",
      "10\n"
     ]
    }
   ],
   "source": [
    "for (int i = 0; i <= 10; i = i + 2) \n",
    "{\n",
    "    System.out.println(i);\n",
    "}"
   ]
  },
  {
   "cell_type": "markdown",
   "metadata": {},
   "source": [
    "## Nested loops\n",
    "- Putting a loop inside another loop\n",
    "- Can be used when using for, if, while loops"
   ]
  },
  {
   "cell_type": "code",
   "execution_count": 25,
   "metadata": {},
   "outputs": [],
   "source": [
    "    public static void main(String[] args) {\n",
    "  \n",
    "      int weeks = 3;\n",
    "      int days = 7;\n",
    "  \n",
    "      // outer loop prints weeks\n",
    "      for (int i = 1; i <= weeks; ++i) {\n",
    "        System.out.println(\"Week: \" + i);\n",
    "  \n",
    "        // inner loop prints days\n",
    "        for (int j = 1; j <= days; ++j) {\n",
    "          System.out.println(\"  Day: \" + j);\n",
    "        }\n",
    "      }\n",
    "    }"
   ]
  },
  {
   "cell_type": "markdown",
   "metadata": {},
   "source": [
    "## Constructors\n",
    "- Used to create the instance of the class; to initialize objects\n",
    "- They can't have returns because it's not called directly by the code "
   ]
  },
  {
   "cell_type": "code",
   "execution_count": 27,
   "metadata": {},
   "outputs": [],
   "source": [
    "public class Main {\n",
    "    int x;  \n",
    "    public Main() {\n",
    "      x = 5;  \n",
    "    }\n",
    "  \n",
    "    public static void main(String[] args) {\n",
    "      Main myObj = new Main(); \n",
    "      System.out.println(myObj.x); \n",
    "    }\n",
    "  }\n",
    "  "
   ]
  },
  {
   "cell_type": "markdown",
   "metadata": {},
   "source": [
    "## Subclass constructor, super Keyword (This relates to Unit 5: Writing Classes)\n",
    "Subclass inherits all the members which include fields, methods, and nested classes from its superclasss. constructors are not inheritted by the subclass. inheritance helps you create a new class out of a class that already exists. Subclasses have their own code of their own that are initialized.The invocation  of a super class constructor must be the first line of the subclass constructuor\n",
    "\n",
    "``` java\n",
    "public class Subclass extends Superclass {\n",
    "    public static void main(String args[]){\n",
    "        super();\n",
    "    }\n",
    "}\n",
    "```"
   ]
  },
  {
   "cell_type": "markdown",
   "metadata": {},
   "source": [
    "## Overriding a method, same signature of a method\n",
    "Overriding is when the child class has a method that is present in the parent class. The child class must have a different implementation of the method that is already present in the parent class. depending on which method is called the result is different based on the overriden method"
   ]
  },
  {
   "cell_type": "code",
   "execution_count": 33,
   "metadata": {},
   "outputs": [
    {
     "name": "stdout",
     "output_type": "stream",
     "text": [
      "You are an adult!\n",
      "You are a child!\n"
     ]
    }
   ],
   "source": [
    "public class Adult{\n",
    "    public void knowAge(){\n",
    "        System.out.println(\"You are an adult!\");\n",
    "    }\n",
    "}\n",
    "public class Child extends Adult{\n",
    "    public void knowAge(){\n",
    "        System.out.println(\"You are a child!\");\n",
    "    }\n",
    "}\n",
    "public class Main{\n",
    "    public static void main(String args[]){\n",
    "        Adult person = new Adult();\n",
    "        person.knowAge();\n",
    "        Child kid = new Child();\n",
    "        kid.knowAge();\n",
    "    }\n",
    "}\n",
    "Main.main(null);"
   ]
  },
  {
   "cell_type": "markdown",
   "metadata": {},
   "source": [
    "## Mutator methods, relationship to setter, describe void return type\n",
    "- mutator methods reset the value of a private varibel and gives the other classes the ability to modify the value of the vairable \n",
    "- Setters are also known as mutators\n",
    "- We can only assign the void return type variable as null\n",
    "- Void functions can return values but not return types"
   ]
  },
  {
   "cell_type": "markdown",
   "metadata": {},
   "source": [
    "## Public, Private, and Protected\n",
    "- Public means that all code can access the class, field, constructor, or method regardless of the place it's in \n",
    "- Private means that you can only access in the same class\n",
    "- Protected means that you can access within the class but also out of it with a child class"
   ]
  },
  {
   "cell_type": "code",
   "execution_count": null,
   "metadata": {},
   "outputs": [],
   "source": [
    "class Example {\n",
    "    public void method1() {...}\n",
    "\n",
    "   private void method2() {...}\n",
    "}"
   ]
  },
  {
   "cell_type": "markdown",
   "metadata": {},
   "source": [
    "## This\n",
    "- Used to notate the curent object in the method\n",
    "``` java\n",
    "this.color = red; \n",
    "```"
   ]
  },
  {
   "cell_type": "markdown",
   "metadata": {},
   "source": [
    "## Inheritance, Extends\n",
    "- Attributes and methods can be inherited from one class to another\n",
    "- Can be a part of the subclass (child)\n",
    "- Super class is what the subclass can be inherited from\n",
    "- extends is used when notating the class being extended; from the parent class to the child class\n",
    "\n",
    "``` java\n",
    "class Color extends Shade\n",
    "```"
   ]
  },
  {
   "cell_type": "markdown",
   "metadata": {},
   "source": [
    "## Overloading a method\n",
    "- Method overloading allows a class to have more than one method with the same name but with different paramenters"
   ]
  },
  {
   "cell_type": "code",
   "execution_count": 28,
   "metadata": {},
   "outputs": [],
   "source": [
    "static int plusMethodInt(int a, int b) {\n",
    "    return a + b;\n",
    "  }\n",
    "  \n",
    "  static double plusMethodDouble(double a, double b) {\n",
    "    return a + b;\n",
    "  }\n",
    "  \n",
    "  public static void main(String[] args) {\n",
    "    int myNum1 = plusMethodInt(8, 5);\n",
    "    double myNum2 = plusMethodDouble(4.3, 6.26);\n",
    "    System.out.println(\"int: \" + myNum1);\n",
    "    System.out.println(\"double: \" + myNum2);\n",
    "  }\n",
    "  \n",
    "  "
   ]
  },
  {
   "cell_type": "markdown",
   "metadata": {},
   "source": [
    "## Abstract Class, Abstract Method\n",
    "- Abstract class cannot be instantiated\n",
    "- abstract classes have to be inerited from another class"
   ]
  },
  {
   "cell_type": "code",
   "execution_count": null,
   "metadata": {},
   "outputs": [],
   "source": [
    "abstract class Animal {\n",
    "    public abstract void animalSound();\n",
    "    public void sleep() {\n",
    "      System.out.println(\"Zzz\");\n",
    "    }\n",
    "  }\n",
    "  \n",
    "  class Dog extends Animal {\n",
    "    public void animalSound() {\n",
    "      System.out.println(\"The pig says: woof woof\");\n",
    "    }\n",
    "  }\n",
    "  \n",
    "  class Main {\n",
    "    public static void main(String[] args) {\n",
    "      Dog myDog = new Dog(); // Create a Dog object\n",
    "      myDog.animalSound();\n",
    "      myDog.sleep();\n",
    "    }\n",
    "  }"
   ]
  },
  {
   "cell_type": "markdown",
   "metadata": {},
   "source": [
    "### Standard methods: toString(), equals(), hashCode()\n",
    "\n",
    "toString(): returns a string representing the object. converts an object to a primitive value\n",
    "\n",
    "equals(): compares two strings and objects and returns true if the strings are equals and false if not\n",
    "\n",
    "hashCode(): returns an integer value generated by a hasing algorithm. it finds the hash values of given input object and returns a value that represents the hash value. hash values are used throughout code "
   ]
  },
  {
   "cell_type": "markdown",
   "metadata": {},
   "source": [
    "## Late binding of object; referencing superclass \n",
    "- The compiler doesn't decide the method to be called \n",
    "- Both the parent and child class have the same method"
   ]
  },
  {
   "cell_type": "markdown",
   "metadata": {},
   "source": [
    "## Polymorphism: any of overloading, overriding, late binding\n",
    "Polymorphism allows you to have one interface and many implementations. \n",
    "overloading - multiple functions with tehsame name but different parameters (either changing the number of arguments or changing the data type)"
   ]
  },
  {
   "cell_type": "code",
   "execution_count": null,
   "metadata": {},
   "outputs": [],
   "source": [
    "// Java Program for Method overloading\n",
    "// By using Different Types of Arguments \n",
    " \n",
    "// Class 1\n",
    "// Helper class\n",
    "class Helper {\n",
    " \n",
    "    // Method with 2 integer parameters\n",
    "    static int Multiply(int a, int b)\n",
    "    {\n",
    " \n",
    "        // Returns product of integer numbers\n",
    "        return a * b;\n",
    "    }\n",
    " \n",
    "    // Method 2\n",
    "    // With same name but with 2 double parameters\n",
    "    static double Multiply(double a, double b)\n",
    "    {\n",
    " \n",
    "        // Returns product of double numbers\n",
    "        return a * b;\n",
    "    }\n",
    "}\n",
    " \n",
    "// Class 2\n",
    "// Main class\n",
    "class GFG {\n",
    " \n",
    "    // Main driver method\n",
    "    public static void main(String[] args)\n",
    "    {\n",
    " \n",
    "        // Calling method by passing\n",
    "        // input as in arguments\n",
    "        System.out.println(Helper.Multiply(2, 4));\n",
    "        System.out.println(Helper.Multiply(5.5, 6.3));\n",
    "    }\n",
    "}\n",
    "GFG.main(null);"
   ]
  },
  {
   "cell_type": "markdown",
   "metadata": {},
   "source": [
    "## Big O notation for Hash map, Binary Search, Single loop, Nested Loop\n",
    "- Big O notation is used to describe the limiting behavior of a function when the argument tends to wards a particular value\n",
    "- A hashmap uses a single operation to obtain the position a searched for element needs to go "
   ]
  },
  {
   "cell_type": "markdown",
   "metadata": {},
   "source": [
    "# Units 1-5 Homework \n",
    "\n",
    "## Unit 1 - Primitive Types: Grade Calculator \n"
   ]
  },
  {
   "cell_type": "code",
   "execution_count": 37,
   "metadata": {},
   "outputs": [
    {
     "name": "stdout",
     "output_type": "stream",
     "text": [
      "Do you want separate categories? true\n",
      "Enter current grade? 91.0\n",
      "Enter desired grade? 95.0\n",
      "Enter percent of grade that is final? 10.0\n",
      "91.4\n"
     ]
    }
   ],
   "source": [
    "import java.util.Scanner;\n",
    " \n",
    "    Scanner input;\n",
    "    boolean separateCategory;\n",
    "    float currentGrade;\n",
    "    float desiredGrade; \n",
    "    float percentOfFinal; \n",
    "    \n",
    "    input = new Scanner(System.in);\n",
    "    System.out.print(\"Do you want separate categories? \");\n",
    "    separateCategory = input.nextBoolean();\n",
    "    System.out.println(separateCategory);\n",
    "\n",
    "    if(separateCategory == true) {\n",
    "        System.out.print(\"Enter current grade? \");\n",
    "        currentGrade = input.nextInt();\n",
    "        System.out.println(currentGrade);\n",
    "\n",
    "        System.out.print(\"Enter desired grade? \");\n",
    "        desiredGrade = input.nextInt();\n",
    "        System.out.println(desiredGrade);\n",
    "\n",
    "        System.out.print(\"Enter percent of grade that is final? \");\n",
    "        percentOfFinal = input.nextFloat();\n",
    "        System.out.println(percentOfFinal);\n",
    "\n",
    "        input.close();\n",
    "        \n",
    "        float gradeNeeded = (desiredGrade - currentGrade * (1-percentOfFinal))/percentOfFinal;\n",
    "        System.out.println(gradeNeeded);\n",
    "    }"
   ]
  },
  {
   "cell_type": "markdown",
   "metadata": {},
   "source": [
    "## Unit 2 - Using Objects \n",
    "2021 FRQ Parts a and b\n",
    "a) Write the WordMatch method scoreGuess. To determine the score to be returned, scoreGuess finds the number of times that guess occurs as a substring of secret and then multiplies that number by the square of the length of guess. Occurrences of guess may overlap\n",
    "within secret.\n",
    "Assume that the length of guess is less than or equal to the length of secret and that guess is not an empty string. "
   ]
  },
  {
   "cell_type": "code",
   "execution_count": 35,
   "metadata": {},
   "outputs": [],
   "source": [
    "public class WordMatch\n",
    "{\n",
    "/** The secret string. */\n",
    "private String secret;\n",
    "/** Constructs a WordMatch object with the given secret string of lowercase letters. */\n",
    "\n",
    "public WordMatch(String word)\n",
    "{\n",
    "/* implementation not shown */\n",
    "}\n",
    "/** Returns a score for guess, as described in part (a).\n",
    "* Precondition: 0 < guess.length() <= secret.length()\n",
    "*/\n",
    "public int scoreGuess(String guess)\n",
    "{\n",
    "    int result = 0;\n",
    "\n",
    "    for (int a = 0; a < secret.length(); a++)\n",
    "    {\n",
    "        if(secret.substring(a).indexOf(guess) == 0)\n",
    "        {\n",
    "            result++; \n",
    "        }\n",
    "    }\n",
    "\n",
    "    return result * guess.length() * guess.length();\n",
    "}\n",
    "}\n"
   ]
  },
  {
   "cell_type": "markdown",
   "metadata": {},
   "source": [
    "b) Write the WordMatch method findBetterGuess, which returns the better guess of its two String parameters, guess1 and guess2. If the scoreGuess method returns different values for guess1 and guess2, then the guess with the higher score is returned. If the scoreGuess method returns the same value for guess1 and guess2, then the alphabetically greater guess is returned.\n",
    "The following example shows a declaration of a WordMatch object and the outcomes of some possible calls to the scoreGuess and findBetterGuess methods.\n",
    "WordMatch game = new WordMatch(\"concatenation\"); "
   ]
  },
  {
   "cell_type": "code",
   "execution_count": null,
   "metadata": {},
   "outputs": [],
   "source": [
    "// public int scoreGuess(String guess)\n",
    "// { /* to be implemented in part (a) */ }\n",
    "/** Returns the better of two guesses, as determined by scoreGuess and the rules for a\n",
    "* tie-breaker that are described in part (b).\n",
    "* Precondition: guess1 and guess2 contain all lowercase letters.\n",
    "* guess1 is not the same as guess2.\n",
    "*/\n",
    "public String findBetterGuess(String guess1, String guess2)\n",
    "{\n",
    "    if(scoreGuess(guess1)>scoreGuess(guess2))\n",
    "    {\n",
    "        return guess1; \n",
    "    } \n",
    "\n",
    "    if(scoreGuess(guess2) > scoreGuess(guess1))\n",
    "    {\n",
    "        return guess2; \n",
    "    }\n",
    "    \n",
    "    if(guess1.compareTo(guess2) > 0 )\n",
    "    {\n",
    "        return guess1;\n",
    "    }\n",
    "    \n",
    "    return guess2; \n",
    "}\n"
   ]
  },
  {
   "cell_type": "markdown",
   "metadata": {},
   "source": [
    "## Unit 3 - Boolean Expressions and if Statements\n",
    "### Conditionals Exercises #1-20 Even "
   ]
  },
  {
   "cell_type": "code",
   "execution_count": null,
   "metadata": {},
   "outputs": [],
   "source": [
    "//exercise 2\n",
    "import java.util.Scanner;\n",
    "\n",
    "    \n",
    "  \n",
    "          Scanner input = new Scanner(System.in);\n",
    "  \n",
    "              System.out.print(\"Input a: \");\n",
    "              double a = input.nextDouble();\n",
    "              System.out.print(a);\n",
    "              System.out.print(\"Input b: \");\n",
    "              double b = input.nextDouble();\n",
    "              System.out.print(b);\n",
    "              System.out.print(\"Input c: \");\n",
    "              double c = input.nextDouble();\n",
    "              System.out.print(c);\n",
    "  \n",
    "              double result = b * b - 4.0 * a * c;\n",
    "  \n",
    "              if (result > 0.0) {\n",
    "                  double r1 = (-b + Math.pow(result, 0.5)) / (2.0 * a);\n",
    "                  double r2 = (-b - Math.pow(result, 0.5)) / (2.0 * a);\n",
    "                  System.out.println(\"Roots are\" + r1 + \" and \" + r2);\n",
    "              } else if (result == 0.0) {\n",
    "                  double r1 = -b / (2.0 * a);\n",
    "                  System.out.println(\"Root is \" + r1);\n",
    "              } else {\n",
    "                  System.out.println(\"No real roots.\");\n",
    "              }"
   ]
  },
  {
   "cell_type": "code",
   "execution_count": null,
   "metadata": {},
   "outputs": [],
   "source": [
    "//exercise 4\n",
    "Scanner in = new Scanner(System.in);\n",
    "System.out.print(\"Input: \");\n",
    "double input = in.nextDouble();\n",
    "System.out.print(input);\n",
    "if (input > 0)\n",
    "        {\n",
    "            if (input < 1)\n",
    "            {\n",
    "                System.out.println(\"Positive small number\");\n",
    "            }\n",
    "            else if (input > 1000000)\n",
    "            {\n",
    "                System.out.println(\"Positive large number\");\n",
    "            }\n",
    "            else\n",
    "            {\n",
    "                System.out.println(\"Positive number\");\n",
    "            }\n",
    "        }\n",
    "        else if (input < 0)\n",
    "        {\n",
    "            if (Math.abs(input) < 1)\n",
    "            {\n",
    "                System.out.println(\"Negative small number\");\n",
    "            }\n",
    "            else if (Math.abs(input) > 1000000)\n",
    "            {\n",
    "                System.out.println(\"Negative large number\");\n",
    "            }\n",
    "            else\n",
    "            {\n",
    "                System.out.println(\"Negative number\");\n",
    "            }\n",
    "        }\n",
    "        else\n",
    "        {\n",
    "            System.out.println(\"Zero\");\n",
    "        }"
   ]
  },
  {
   "cell_type": "code",
   "execution_count": null,
   "metadata": {},
   "outputs": [],
   "source": [
    "// exercise 6\n",
    " \n",
    "Scanner in = new Scanner(System.in);\n",
    "\n",
    "System.out.print(\"Double 1: \");\n",
    "double num1 = in.nextDouble();\n",
    "System.out.print(num1);\n",
    "System.out.print(\"Double 2: \");\n",
    "double num2 = in.nextDouble();\n",
    "System.out.print(num2); \n",
    "\n",
    "num1 = Math.round(num1 * 1000);\n",
    "num1 = num1 / 1000;\n",
    "\n",
    "num2 = Math.round(num2 * 1000);\n",
    "num2 = num2 / 1000;\n",
    "\n",
    "if (num1 == num2)\n",
    "{\n",
    "    System.out.println(\"Same up to three decimal places\");\n",
    "}\n",
    "else\n",
    "{\n",
    "    System.out.println(\"Different\");\n",
    "}"
   ]
  },
  {
   "cell_type": "code",
   "execution_count": null,
   "metadata": {},
   "outputs": [],
   "source": [
    "// exercise 8\n",
    "\n",
    "Scanner in = new Scanner(System.in);\n",
    "\n",
    "System.out.print(\"Type a letter: \");\n",
    "String input = in.next().toLowerCase();\n",
    "System.out.println(input);\n",
    "\n",
    "boolean uppercase = input.charAt(0) >= 65 && input.charAt(0) <= 90;\n",
    "boolean lowercase = input.charAt(0) >= 97 && input.charAt(0) <= 122;\n",
    "boolean vowels = input.equals(\"a\") || input.equals(\"e\") || input.equals(\"i\")\n",
    "        || input.equals(\"o\") || input.equals(\"u\");\n",
    "\n",
    "if (input.length() > 1)\n",
    "{\n",
    "    System.out.println(\"Error. Not a single character.\");\n",
    "}\n",
    "else if (!(uppercase || lowercase))\n",
    "{\n",
    "    System.out.println(\"Error. Not a letter. Enter uppercase or lowercase letter.\");\n",
    "}\n",
    "else if (vowels)\n",
    "{\n",
    "    System.out.println(\"Input letter is Vowel\");\n",
    "}\n",
    "else\n",
    "{\n",
    "    System.out.println(\"Input letter is Consonant\");\n",
    "}"
   ]
  },
  {
   "cell_type": "code",
   "execution_count": null,
   "metadata": {},
   "outputs": [],
   "source": [
    "// exercise 10\n",
    "\n",
    "int i;\n",
    "System.out.println (\"First 10 natural numbers:\");\n",
    "for (i = 1;i <= 10;i++)\n",
    "{      \n",
    "    System.out.println(i);\n",
    "}\n",
    "System.out.println (\"\\n\");"
   ]
  },
  {
   "cell_type": "markdown",
   "metadata": {},
   "source": [
    "### 2019 FRQ 1"
   ]
  },
  {
   "cell_type": "code",
   "execution_count": null,
   "metadata": {},
   "outputs": [],
   "source": [
    "// part a\n",
    "public static int numberOfLeapYears(int year1, int year2)\n",
    "{  \n",
    "   int numLeapYears = 0;\n",
    "   for (int i = year1; i <= year2; i++) {\n",
    "       if (isLeapYear(i)) {\n",
    "           numLeapYears ++;\n",
    "       }\n",
    "   }\n",
    "   return numLeapYears; \n",
    "\n",
    "}"
   ]
  },
  {
   "cell_type": "code",
   "execution_count": null,
   "metadata": {},
   "outputs": [],
   "source": [
    "// part b\n",
    "public static int dayOfWeek(int month, int day, int year)\n",
    " {  \n",
    "    int firstDay = firstDayOfYear(year);\n",
    "    int theDate = dayOfYear(month, day year);\n",
    "    int theDay = (firstDay + theDate - 1) % 7;\n",
    "    return theDay;\n",
    " }"
   ]
  },
  {
   "cell_type": "code",
   "execution_count": null,
   "metadata": {},
   "outputs": [],
   "source": [
    "public class APCalendar\n",
    "{\n",
    " /** Returns true if year is a leap year and false otherwise. */\n",
    " private static boolean isLeapYear(int year)\n",
    " { /* implementation not shown */ }\n",
    " /** Returns the number of leap years between year1 and year2, inclusive.\n",
    " * Precondition: 0 <= year1 <= year2\n",
    " */\n",
    " public static int numberOfLeapYears(int year1, int year2)\n",
    " { /* to be implemented in part (a) */ \n",
    "    int numLeapYears = 0;\n",
    "    for (int i = year1; i <= year2; i++) {\n",
    "        if (isLeapYear(i)) {\n",
    "            numLeapYears ++;\n",
    "        }\n",
    "    }\n",
    "    return numLeapYears; \n",
    "\n",
    "}\n",
    " /** Returns the value representing the day of the week for the first day of year,\n",
    " * where 0 denotes Sunday, 1 denotes Monday, ..., and 6 denotes Saturday.\n",
    " */\n",
    " private static int firstDayOfYear(int year)\n",
    " { /* implementation not shown */ }\n",
    "\n",
    " /** Returns n, where month, day, and year specify the nth day of the year.\n",
    " * Returns 1 for January 1 (month = 1, day = 1) of any year.\n",
    " * Precondition: The date represented by month, day, year is a valid date.\n",
    " */\n",
    " private static int dayOfYear(int month, int day, int year)\n",
    " { /* implementation not shown */ }\n",
    "\n",
    " /** Returns the value representing the day of the week for the given date\n",
    " * (month, day, year), where 0 denotes Sunday, 1 denotes Monday, ...,\n",
    " * and 6 denotes Saturday.\n",
    " * Precondition: The date represented by month, day, year is a valid date.\n",
    " */\n",
    " public static int dayOfWeek(int month, int day, int year)\n",
    " {  \n",
    "    int firstDay = firstDayOfYear(year);\n",
    "    int theDate = dayOfYear(month, day year);\n",
    "    int theDay = (firstDay + theDate - 1) % 7;\n",
    "    return theDay;\n",
    " }\n",
    " // There may be instance variables, constructors, and other methods not shown.\n",
    "} "
   ]
  },
  {
   "cell_type": "markdown",
   "metadata": {},
   "source": [
    "## Unit 4 - Iteration\n",
    "### Caesar Cipher Program\n",
    "Try to write a caesar cipher program that shifts each letter in a message 3 letters forward. Use any of the methods you learned today. Use it to decode the 3 messages we've given you!"
   ]
  },
  {
   "cell_type": "code",
   "execution_count": null,
   "metadata": {},
   "outputs": [],
   "source": [
    "public class CaesarCipher {\n",
    "\n",
    "    public static void main(String[] args) {\n",
    "\n",
    "        String[] letters = {\"a\", \"b\", \"c\", \"d\", \"e\", \"f\", \"g\", \"h\", \"i\", \"j\", \"k\", \"l\", \"m\", \"n\", \"o\", \"p\", \"q\", \"r\", \"s\", \"t\", \"u\", \"v\", \"w\", \"x\", \"y\", \"z\"};\n",
    "        String message1 = \"Kfzb gly!\";\n",
    "        String message2 = \"zlab zlab zlab\";\n",
    "        String message3 = \"prmbozxifcoxdfifpqfzbumfxifalzflrp\";\n",
    "\n",
    "        int shiftBy = 3 ; // showing how much to shift by\n",
    "\n",
    "        CaesarCipher caesarCipher = new CaesarCipher(); // instantiating CaesarCipher class\n",
    "\n",
    "        System.out.println(\"Decrypted Message1 : \" + caesarCipher.decryptMessage(message1, shiftBy));\n",
    "        System.out.println(\"Decrypted Message2 : \" + caesarCipher.decryptMessage(message2, shiftBy));\n",
    "        System.out.println(\"Decrypted Message3 : \" + caesarCipher.decryptMessage(message3, shiftBy));\n",
    "    }\n",
    "\n",
    "    // method for decrypting given message by the shift int value \n",
    "    String decryptMessage(String input, int shiftBy){ \n",
    "\n",
    "        int asciia =(int) 'a'; // assigning ascii values for a \n",
    "\n",
    "        String decryptMessage = \"\";\n",
    "        for(int i=0 ; i < input.length(); i++){\n",
    "                char c = input.charAt(i) ; \n",
    "                char newChar = c ;\n",
    "                // does decryption only for letters (not the exclamation mark, not spaces, etc.)\n",
    "                if( Character.isLetter(c) ){\n",
    "                    int intValue = (int) c ; // finds the ascii value for given letter\n",
    "                    int newValue = (intValue - asciia + shiftBy ) % 26 ; // assiging deciphered ascii value by subtracting the ascii value and adding the shift value\n",
    "                    newValue = newValue + asciia ;\n",
    "                    newChar = (char) newValue; // converting ascii value to new character\n",
    "                }\n",
    "                decryptMessage += newChar ;\n",
    "        }\n",
    "        return decryptMessage;\n",
    "    }\n",
    "\n",
    "}\n",
    "CaesarCipher.main(null);"
   ]
  },
  {
   "cell_type": "markdown",
   "metadata": {},
   "source": [
    "## Unit 5 - Writing Class\n",
    "### 2019 Free Response Question 2\n",
    "\n",
    "This question involves the implementation of a fitness tracking system that is represented by the StepTracker class. A StepTracker object is created with a parameter that defines the minimum number of steps that must be taken for a day to be considered active.\n",
    "\n",
    "    The StepTracker class provides a constructor and the following methods.\n",
    "    \n",
    "- addDailySteps, which accumulates information about steps, in readings taken once per day\n",
    "- activeDays, which returns the number of active days\n",
    "- averageSteps, which returns the average number of steps per day, calculated by dividing the total number of steps taken by the number of days tracked \n",
    "\n",
    "Write the complete StepTracker class, including the constructor and any required instance variables and\n",
    "methods. Your implementation must meet all specifications and conform to the example. "
   ]
  },
  {
   "cell_type": "code",
   "execution_count": null,
   "metadata": {},
   "outputs": [],
   "source": [
    "public class StepTracker {\n",
    "\n",
    "    // accessing and showing our private instance variables\n",
    "     private int totalSteps;\n",
    "     private int minimumSteps;\n",
    "     private int daysActive;\n",
    "     private int days;\n",
    "     \n",
    "     // constructor with the parameter \n",
    "     public StepTracker(int least){\n",
    "         minimumSteps = least;\n",
    "         totalSteps = 0; // values to initialize variables\n",
    "         daysActive = 0;\n",
    "         days = 0;\n",
    "     }\n",
    " \n",
    "     //added the dailySteps method as the \"AddDailySteps\"\n",
    "     public void AddDailySteps(int steps){\n",
    "         totalSteps += steps; //shows active days and the incremental counting\n",
    "         days++;\n",
    "         if (steps >= minSteps){\n",
    "             daysActive++; // updates the other instance variables\n",
    "         }\n",
    "     }\n",
    " \n",
    "     //the activeDays method\n",
    "     public int getdaysActive(){ // declared and implemented into program\n",
    "         return days;\n",
    "     }\n",
    " \n",
    "     public double avgSteps(){\n",
    "         if (days == 0){\n",
    "             return 0.0;\n",
    "         } \n",
    "         else{\n",
    " \n",
    "             //returns the calculated double of the average number of steps walked\n",
    "             return (double) totalSteps / days; \n",
    "         }\n",
    "     }\n",
    " \n",
    " }"
   ]
  }
 ],
 "metadata": {
  "kernelspec": {
   "display_name": "Java",
   "language": "java",
   "name": "java"
  },
  "language_info": {
   "codemirror_mode": "java",
   "file_extension": ".jshell",
   "mimetype": "text/x-java-source",
   "name": "java",
   "pygments_lexer": "java",
   "version": "11.0.16+8-post-Ubuntu-0ubuntu120.04"
  },
  "orig_nbformat": 4,
  "vscode": {
   "interpreter": {
    "hash": "916dbcbb3f70747c44a77c7bcd40155683ae19c65e1c03b4aa3499c5328201f1"
   }
  }
 },
 "nbformat": 4,
 "nbformat_minor": 2
}
