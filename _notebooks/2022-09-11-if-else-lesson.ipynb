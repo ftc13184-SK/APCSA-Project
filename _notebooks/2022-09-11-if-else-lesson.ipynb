{
 "cells": [
  {
   "cell_type": "markdown",
   "metadata": {},
   "source": [
    "# If Else Statement Lesson\n",
    "- toc: true \n",
    "- badges: true\n",
    "- comments: true\n",
    "- categories: [jupyter]\n",
    "- image: images/chart-preview.png"
   ]
  },
  {
   "cell_type": "markdown",
   "metadata": {},
   "source": [
    "# If else Statements\n",
    "\n",
    "## If elese statements are used in Java to execute a certain action if certain conditions are met. If the conditions are not met, there may be an \"else\" statement to perform a different action. "
   ]
  },
  {
   "cell_type": "markdown",
   "metadata": {},
   "source": [
    "- If statements can be simple or complex in nature. Here is an example of a simple if statement "
   ]
  },
  {
   "cell_type": "code",
   "execution_count": 8,
   "metadata": {
    "vscode": {
     "languageId": "java"
    }
   },
   "outputs": [],
   "source": [
    "public class test \n",
    "{\n",
    "    public static void main(String[] args)\n",
    "{\n",
    "    int num = 10; \n",
    "\n",
    "    if (num > 0) \n",
    "    {\n",
    "        System.out.println(\"The number is greater than zero\");\n",
    "    }\n",
    "}\n",
    "}"
   ]
  },
  {
   "cell_type": "code",
   "execution_count": 7,
   "metadata": {
    "vscode": {
     "languageId": "java"
    }
   },
   "outputs": [],
   "source": [
    "public class print\n",
    "{\n",
    "    public static void main(String[] args)\n",
    "{\n",
    "    System.out.println(\"Hello world\"); \n",
    "} \n",
    "}"
   ]
  }
 ],
 "metadata": {
  "kernelspec": {
   "display_name": "Java",
   "language": "java",
   "name": "java"
  },
  "language_info": {
   "codemirror_mode": "java",
   "file_extension": ".jshell",
   "mimetype": "text/x-java-source",
   "name": "Java",
   "pygments_lexer": "java",
   "version": "11.0.16+8-post-Ubuntu-0ubuntu120.04"
  },
  "orig_nbformat": 4
 },
 "nbformat": 4,
 "nbformat_minor": 2
}
