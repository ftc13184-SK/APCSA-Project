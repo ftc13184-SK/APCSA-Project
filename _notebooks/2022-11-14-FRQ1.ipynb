{
 "cells": [
  {
   "cell_type": "markdown",
   "metadata": {},
   "source": [
    "# 2019 FRQ\n",
    "- toc: true \n",
    "- badges: true\n",
    "- comments: true\n",
    "- categories: [jupyter]\n",
    "- image: images/chart-preview.png"
   ]
  },
  {
   "cell_type": "markdown",
   "metadata": {},
   "source": [
    "1. The APCalendar class contains methods used to calculate information about a calendar. You will write two methods of the class. "
   ]
  },
  {
   "cell_type": "code",
   "execution_count": null,
   "metadata": {
    "vscode": {
     "languageId": "java"
    }
   },
   "outputs": [],
   "source": [
    "public class APCalendar\n",
    "{\n",
    " /** Returns true if year is a leap year and false otherwise. */\n",
    " private static boolean isLeapYear(int year)\n",
    " { /* implementation not shown */ }\n",
    " /** Returns the number of leap years between year1 and year2, inclusive.\n",
    " * Precondition: 0 <= year1 <= year2\n",
    " */\n",
    " public static int numberOfLeapYears(int year1, int year2)\n",
    " { /* to be implemented in part (a) */ }\n",
    " /** Returns the value representing the day of the week for the first day of year,\n",
    " * where 0 denotes Sunday, 1 denotes Monday, ..., and 6 denotes Saturday.\n",
    " */\n",
    " private static int firstDayOfYear(int year)\n",
    " { /* implementation not shown */ }\n",
    " /** Returns n, where month, day, and year specify the nth day of the year.\n",
    " * Returns 1 for January 1 (month = 1, day = 1) of any year.\n",
    " * Precondition: The date represented by month, day, year is a valid date.\n",
    " */\n",
    " private static int dayOfYear(int month, int day, int year)\n",
    " { /* implementation not shown */ }\n",
    " /** Returns the value representing the day of the week for the given date\n",
    " * (month, day, year), where 0 denotes Sunday, 1 denotes Monday, ...,\n",
    " * and 6 denotes Saturday.\n",
    " * Precondition: The date represented by month, day, year is a valid date.\n",
    " */\n",
    " public static int dayOfWeek(int month, int day, int year)\n",
    " { /* to be implemented in part (b) */ }\n",
    " // There may be instance variables, constructors, and other methods not shown.\n",
    "} "
   ]
  },
  {
   "cell_type": "markdown",
   "metadata": {},
   "source": [
    "(a) Write the static method numberOfLeapYears, which returns the number of leap years between year1 and year2, inclusive. In order to calculate this value, a helper method is provided for you.\n",
    "- isLeapYear(year) returns true if year is a leap year and false otherwise.\n",
    "Complete method numberOfLeapYears below. You must use isLeapYear appropriately to\n",
    "receive full credit.\n",
    "/** Returns the number of leap years between year1 and year2, inclusive.\n",
    " * Precondition: 0 <= year1 <= year2\n",
    " */\n",
    " public static int numberOfLeapYears(int year1, int year2) "
   ]
  },
  {
   "cell_type": "code",
   "execution_count": 1,
   "metadata": {
    "vscode": {
     "languageId": "java"
    }
   },
   "outputs": [],
   "source": [
    "public static int numberOfLeapYears(int year1, int year2)\n",
    "{  \n",
    "   int numLeapYears = 0;\n",
    "   for (int i = year1; i <= year2; i++) {\n",
    "       if (isLeapYear(i)) {\n",
    "           numLeapYears ++;\n",
    "       }\n",
    "   }\n",
    "   return numLeapYears; \n",
    "\n",
    "}"
   ]
  }
 ],
 "metadata": {
  "kernelspec": {
   "display_name": "Java",
   "language": "java",
   "name": "java"
  },
  "language_info": {
   "codemirror_mode": "java",
   "file_extension": ".jshell",
   "mimetype": "text/x-java-source",
   "name": "Java",
   "pygments_lexer": "java",
   "version": "11.0.16+8-post-Ubuntu-0ubuntu120.04"
  },
  "orig_nbformat": 4,
  "vscode": {
   "interpreter": {
    "hash": "916dbcbb3f70747c44a77c7bcd40155683ae19c65e1c03b4aa3499c5328201f1"
   }
  }
 },
 "nbformat": 4,
 "nbformat_minor": 2
}
