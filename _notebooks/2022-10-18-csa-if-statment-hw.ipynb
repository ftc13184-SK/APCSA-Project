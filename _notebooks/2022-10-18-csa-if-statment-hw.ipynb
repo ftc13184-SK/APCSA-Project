{
 "cells": [
  {
   "cell_type": "code",
   "execution_count": null,
   "metadata": {},
   "outputs": [],
   "source": [
    "# API Lesson \n",
    "- toc: true \n",
    "- badges: true\n",
    "- comments: true\n",
    "- categories: [jupyter]\n",
    "- image: images/chart-preview.png"
   ]
  },
  {
   "cell_type": "code",
   "execution_count": null,
   "metadata": {},
   "outputs": [],
   "source": [
    "public class Cow\n",
    "{\n",
    "    Cow myCow = new Cow(); \n",
    "    Cow bessie = new Cow(\"hostein\", \"moo\"); \n",
    "}"
   ]
  },
  {
   "cell_type": "markdown",
   "metadata": {},
   "source": [
    "Methods"
   ]
  },
  {
   "cell_type": "code",
   "execution_count": null,
   "metadata": {},
   "outputs": [],
   "source": [
    "public static void main​(String[] args){\n",
    "    \n",
    "}"
   ]
  },
  {
   "cell_type": "code",
   "execution_count": null,
   "metadata": {},
   "outputs": [],
   "source": [
    "// Basic Java Class\n",
    "\n",
    "public class Snack { // class name always starts with capital letter\n",
    "\n",
    "    /*\n",
    "     * Instance variables\n",
    "     * Always declared right after class declaration\n",
    "     * Declared with TYPE and NAME\n",
    "     */\n",
    "    private String name;\n",
    "    private int calories;\n",
    "\n",
    "    // constructor\n",
    "    public Snack(String n, int c){\n",
    "        name = n;\n",
    "        calories = c;\n",
    "    }\n",
    "\n",
    "    // methods\n",
    "    public String getName(){ // accessor\n",
    "        return name;\n",
    "    }\n",
    "\n",
    "    public void setName(String n){ // mutator\n",
    "        name = n;\n",
    "    }\n",
    "\n",
    "    // main method\n",
    "    public static void main(String[] args) {\n",
    "        Snack one = new Snack(\"Oreos\", 100);\n",
    "        System.out.println(one.getName());\n",
    "    }\n",
    "}\n",
    "\n",
    "Snack.main(null);"
   ]
  },
  {
   "cell_type": "code",
   "execution_count": null,
   "metadata": {},
   "outputs": [],
   "source": [
    "public class cow\n",
    "{\n",
    "    //on her fastpahes\n",
    "}"
   ]
  },
  {
   "cell_type": "code",
   "execution_count": null,
   "metadata": {},
   "outputs": [],
   "source": [
    "//Hack 3"
   ]
  },
  {
   "cell_type": "code",
   "execution_count": null,
   "metadata": {},
   "outputs": [],
   "source": [
    "//Hack 4\n",
    "public class Song\n",
    "{\n",
    "\n",
    "  /** Verse - prints out a verse of the song\n",
    "   * @param number - a String like \"one\", \"two\", etc.\n",
    "   * @param rhyme - a String like \"thumb\", \"shoe\", etc.\n",
    "   */\n",
    "   public void verse(String number, String rhyme)\n",
    "   {\n",
    "     System.out.println(\"This old man, he played \" + number);\n",
    "     System.out.println(\"He played knick knack on my \" + rhyme);\n",
    "   }\n",
    "\n",
    "  // The chorus method\n",
    "  public void chorus()\n",
    "  {\n",
    "     System.out.println(\"With a knick knack paddy whack, give a dog a bone.\");\n",
    "     System.out.println(\"This old man came rolling home.\");\n",
    "  }\n",
    "\n",
    "  public static void main(String args[])\n",
    "  {\n",
    "      Song mySong = new Song();\n",
    "      mySong.verse(\"one\", \"thumb\");\n",
    "      mySong.chorus();\n",
    "      mySong.verse(\"two\", \"shoe\");\n",
    "      mySong.chorus();\n",
    "      mySong.verse(\"three\", \"knee\");\n",
    "      mySong.chorus();\n",
    "  }\n",
    "}\n",
    "\n",
    "Song.main(null);"
   ]
  }
 ],
 "metadata": {
  "kernelspec": {
   "display_name": "Java",
   "language": "java",
   "name": "java"
  },
  "language_info": {
   "name": "java"
  },
  "orig_nbformat": 4
 },
 "nbformat": 4,
 "nbformat_minor": 2
}
