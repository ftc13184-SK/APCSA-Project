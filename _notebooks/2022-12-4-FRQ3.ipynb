{
 "cells": [
  {
   "cell_type": "markdown",
   "metadata": {},
   "source": [
    "# FRQ 3\n",
    "- toc: true \n",
    "- badges: true\n",
    "- comments: true\n",
    "- categories: [jupyter]\n",
    "- image: images/chart-preview.png"
   ]
  },
  {
   "cell_type": "markdown",
   "metadata": {},
   "source": [
    "3. Many encoded strings contain delimiters. A delimiter is a non-empty string that acts as a boundary between different parts of a larger string. The delimiters involved in this question occur in pairs that must be balanced, with each pair having an open delimiter and a close delimiter. There will be only one type of delimiter for each string."
   ]
  },
  {
   "cell_type": "code",
   "execution_count": null,
   "metadata": {},
   "outputs": [],
   "source": [
    "public class Delimiters\n",
    "{\n",
    " /** The open and close delimiters. */\n",
    " private String openDel;\n",
    " private String closeDel;\n",
    " /** Constructs a Delimiters object where open is the open delimiter and close is the\n",
    " * close delimiter.\n",
    " * Precondition: open and close are non-empty strings.\n",
    " */\n",
    " public Delimiters(String open, String close)\n",
    " {\n",
    " openDel = open;\n",
    " closeDel = close;\n",
    " }\n",
    " /** Returns an ArrayList of delimiters from the array tokens, as described in part (a). */\n",
    " public ArrayList<String> getDelimitersList(String[] tokens)\n",
    " { /* to be implemented in part (a) */ }\n",
    " /** Returns true if the delimiters are balanced and false otherwise, as described in part (b).\n",
    " * Precondition: delimiters contains only valid open and close delimiters.\n",
    " */\n",
    " public boolean isBalanced(ArrayList<String> delimiters)\n",
    " { /* to be implemented in part (b) */ }\n",
    " // There may be instance variables, constructors, and methods that are not shown.\n",
    "} "
   ]
  },
  {
   "cell_type": "markdown",
   "metadata": {},
   "source": [
    "(a) A string containing text and possibly delimiters has been split into tokens and stored in String[] tokens. Each token is either an open delimiter, a close delimiter, or a substring that is not a delimiter. You will write the method getDelimitersList, which returns an ArrayList containing all the open and close delimiters found in tokens in their original order."
   ]
  },
  {
   "cell_type": "code",
   "execution_count": null,
   "metadata": {},
   "outputs": [],
   "source": [
    "public ArrayList<String> getDelimitersList(String[] tokens)  //string with the getDelimitersList method\n",
    "{\n",
    "\n",
    "    ArrayList<String> d = new ArrayList<String>();\n",
    "\n",
    "    for (String str : tokens)   // for all of the tokens\n",
    "    {\n",
    "        if (str.equals(openDel) || str.equals(closeDel))    // if the token is either an open or close delimiter\n",
    "        {\n",
    "            d.add(str);\n",
    "        }\n",
    "    }\n",
    "    return d;  // in the event that the substring is not a delimiter\n",
    "\n",
    "}"
   ]
  },
  {
   "cell_type": "markdown",
   "metadata": {},
   "source": [
    "Write the method isBalanced, which returns true when the delimiters are balanced and returns false otherwise. The delimiters are balanced when both of the following conditions are satisfied;\n",
    "otherwise, they are not balanced.\n",
    "1. When traversing the ArrayList from the first element to the last element, there is no point at which there are more close delimiters than open delimiters at or before that point.\n",
    "\n",
    "2. The total number of open delimiters is equal to the total number of close delimiters. Consider a Delimiters object for which openDel is \"<sup>\" and closeDel is \"</sup>\". "
   ]
  },
  {
   "cell_type": "code",
   "execution_count": null,
   "metadata": {},
   "outputs": [],
   "source": [
    "public boolean isBalanced(ArrayList<String> delimiters)  // method of isBalanced\n",
    "{\n",
    "    int openedCount = 0;    // initializing both openedCount and closedCount variables at 0\n",
    "    int closedCount = 0;\n",
    "\n",
    "    for (String str : delimiters)\n",
    "    {\n",
    "        if (str.equals(openDel))\n",
    "        {\n",
    "            openedCount++;\n",
    "        }\n",
    "        else\n",
    "        {\n",
    "            closedCount++;\n",
    "        }\n",
    "        if (closedCount > openedCount)   // making sure there isn't a point there are more closed than opeend delimiters\n",
    "        {\n",
    "            return false;\n",
    "        }\n",
    " }\n",
    "\n",
    " if (openedCount == closedCount)\n",
    " {\n",
    "    return true;    // statement returns true when closed and opened delimiters hold the same value\n",
    " }\n",
    " else\n",
    " {\n",
    "    return false;\n",
    " }\n",
    "}"
   ]
  }
 ],
 "metadata": {
  "kernelspec": {
   "display_name": "Java",
   "language": "java",
   "name": "java"
  },
  "language_info": {
   "name": "java",
   "version": "3.8.10"
  },
  "orig_nbformat": 4,
  "vscode": {
   "interpreter": {
    "hash": "916dbcbb3f70747c44a77c7bcd40155683ae19c65e1c03b4aa3499c5328201f1"
   }
  }
 },
 "nbformat": 4,
 "nbformat_minor": 2
}
