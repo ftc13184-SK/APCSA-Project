{
 "cells": [
  {
   "attachments": {},
   "cell_type": "markdown",
   "metadata": {},
   "source": [
    "# 66 Question Practice MCQ Test Corrections \n",
    "- toc: true \n",
    "- badges: true\n",
    "- comments: true\n",
    "- categories: [jupyter, Test Prep]\n",
    "- image: images/chart-preview.png"
   ]
  },
  {
   "attachments": {},
   "cell_type": "markdown",
   "metadata": {},
   "source": [
    "On this practice exam, I scored 54/66. \n",
    "\n",
    "# Q13\n",
    "<img src=\"../images/Q13.PNG\">\n",
    "\n",
    "- For this question, I misevaluated and thought that x!=y would evaluate to false and (x||y) && x would evalute to false. However, the second expression is true leading to inequivalent answers"
   ]
  },
  {
   "attachments": {},
   "cell_type": "markdown",
   "metadata": {},
   "source": [
    "# Q19\n",
    "<img src=\"../images/Q19.PNG\">\n",
    "- On this problem, I evaluated the first part of the question right butI thought the ! would switch the inequality but didn't factor in the ! that wrapped around the whole expression"
   ]
  },
  {
   "attachments": {},
   "cell_type": "markdown",
   "metadata": {},
   "source": [
    "# Q51\n",
    "<img src=\"../images/Q51.PNG\">\n",
    "- I think this was just a silly mistake beacause redoing the problem after, I got the correct answer. I may hav read the modified method wrong, resulting in my wrong answer"
   ]
  },
  {
   "attachments": {},
   "cell_type": "markdown",
   "metadata": {},
   "source": [
    "# Q53\n",
    "<img src=\"../images/Q53.PNG\">\n",
    "- For this question, I thought that he while loop should be x < n-1 but didn't take into account that the \"total\" should be initialized to 1 so that the two methods work"
   ]
  },
  {
   "attachments": {},
   "cell_type": "markdown",
   "metadata": {},
   "source": [
    "# Q54\n",
    "<img src=\"../images/Q54.PNG\">\n",
    "- I got this problem wrong because I thought the if statement would produce \"abcde\" instead of the backwards \"edcba\" to produce true beecause of the inital if (str.lenght() <= 1)"
   ]
  },
  {
   "attachments": {},
   "cell_type": "markdown",
   "metadata": {},
   "source": [
    "# Q56\n",
    "<img src=\"../images/Q56.PNG\">\n",
    "- For this one, I thought there didn't need to be an else statment because the k++ was out of the while loop but loooking at the order of the paranthesis now, it is inside and thus needs a else before k++ "
   ]
  },
  {
   "attachments": {},
   "cell_type": "markdown",
   "metadata": {},
   "source": [
    "# Q60\n",
    "<img src=\"../images/Q60.PNG\">\n",
    "- Fo this one, I guessed because I couldn't figure out how shuffle methods worked. Now looking at the correct answer and the explanation for it, I see that it is because the last element returned in the array may not have the correct value and not that there would be an ArrayIndexOutOfBoundsException"
   ]
  },
  {
   "attachments": {},
   "cell_type": "markdown",
   "metadata": {},
   "source": [
    "# Q61\n",
    "<img src=\"../images/Q61.PNG\">\n",
    "- This is another one that I didn't know how to do and guessed. With the explanation, I see that there needs to be a reference object to impliment Stdent interface as a part of the Athelete class"
   ]
  },
  {
   "attachments": {},
   "cell_type": "markdown",
   "metadata": {},
   "source": [
    "# Q63\n",
    "<img src=\"../images/Q63.PNG\">\n",
    "- With this one, the answer I chose would have resulted in an ArrayIndexOutOfBoundsException because it would try to access an element outside arr1. Option C is right because the modifying statement is not needed because arr1 shouldn't be changed"
   ]
  },
  {
   "attachments": {},
   "cell_type": "markdown",
   "metadata": {},
   "source": [
    "# Overall Comments\n",
    "- I am pretty proud of this score\n",
    "- In the future, I will focus on being able to complete the test within the time limit since I took over 4 hours on this test over a couple of days.\n",
    "- I got a lot more wrong at the end because I was rushing and wanted to get the test done\n",
    "- Thought this test was harder than the other practice MCQ we did\n",
    "- I missed mostly equivalent expression problems so I need to work on them"
   ]
  }
 ],
 "metadata": {
  "kernelspec": {
   "display_name": "Java",
   "language": "java",
   "name": "java"
  },
  "language_info": {
   "name": "java",
   "version": "3.8.10"
  },
  "orig_nbformat": 4,
  "vscode": {
   "interpreter": {
    "hash": "916dbcbb3f70747c44a77c7bcd40155683ae19c65e1c03b4aa3499c5328201f1"
   }
  }
 },
 "nbformat": 4,
 "nbformat_minor": 2
}
