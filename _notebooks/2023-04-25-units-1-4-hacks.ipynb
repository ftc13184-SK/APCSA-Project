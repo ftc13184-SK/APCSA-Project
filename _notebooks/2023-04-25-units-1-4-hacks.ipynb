{
 "cells": [
  {
   "cell_type": "markdown",
   "metadata": {},
   "source": [
    "# Units 1-4 Hacks\n",
    "- toc: true \n",
    "- badges: true\n",
    "- comments: true\n",
    "- categories: [jupyter, Class Lessons]\n",
    "- image: images/chart-preview.png"
   ]
  },
  {
   "attachments": {},
   "cell_type": "markdown",
   "metadata": {},
   "source": [
    "# Hack 1"
   ]
  },
  {
   "cell_type": "code",
   "execution_count": 1,
   "metadata": {},
   "outputs": [
    {
     "name": "stdout",
     "output_type": "stream",
     "text": [
      "Number of cars on highway: 2\n",
      "Number of cars on highway: 4\n",
      "Number of cars on highway: 6\n",
      "Number of cars on highway: 8\n",
      "Number of cars on highway: 10\n",
      "40\n"
     ]
    }
   ],
   "source": [
    "public class Hack1 {\n",
    "    public static void main(String[] args) {\n",
    "        int cars = 0; // starting number of cars\n",
    "        int numCarsEntering = 2; // number of cars entering at a time\n",
    "        int numIterations = 5; // number of times to loop\n",
    "        for (int i = 0; i < numIterations; i++) {\n",
    "            cars += numCarsEntering; // use compound operator to add cars\n",
    "            System.out.println(\"Number of cars on highway: \" + cars);\n",
    "        }\n",
    "        System.out.println(cars * 4);\n",
    "    }\n",
    "}\n",
    "Hack1.main(null);"
   ]
  },
  {
   "attachments": {},
   "cell_type": "markdown",
   "metadata": {},
   "source": [
    "# Hack 2"
   ]
  },
  {
   "cell_type": "code",
   "execution_count": 19,
   "metadata": {},
   "outputs": [
    {
     "name": "stdout",
     "output_type": "stream",
     "text": [
      "Make = Toyota, Model = Corolla, Year = 2022, Price = 24999.99 Used car? false\n",
      "Make = Honda, Model = Accord, Year = 2018, Price = 18999.99 Used car? true\n",
      "Make = Ford, Model = Mustang, Year = 2020, Price = 34999.99 Used car? true\n"
     ]
    }
   ],
   "source": [
    "public class Car {\n",
    "    private String name;\n",
    "    private int year;\n",
    "    private double price;\n",
    "    private boolean isUsed;\n",
    "    private String make;\n",
    "    private String model;\n",
    "    public Car(String make, int year, String model, double price, boolean isUsed) {\n",
    "        //this.name = name;\n",
    "        this.year = year;\n",
    "        this.price = price;\n",
    "        this.isUsed = isUsed;\n",
    "        this.model = model;\n",
    "        this.make = make;\n",
    "    }\n",
    "    public String getName() {\n",
    "        return name;\n",
    "    }\n",
    "    public double getPrice() {\n",
    "        return price;\n",
    "    }\n",
    "    public int getYear() {\n",
    "        return year;\n",
    "    }\n",
    "    public boolean getIsUsed() {\n",
    "        return isUsed;\n",
    "    }\n",
    "    public String getMake() {\n",
    "        return make;\n",
    "    }\n",
    "    public String getModel() {\n",
    "        return model;\n",
    "    }\n",
    "    public void printCarDetails() {\n",
    "        System.out.println(\"Make = \" + this.getMake() + \", Model = \" + this.getModel() + \", Year = \" + this.getYear() + \", \" + \"Price = \" + this.getPrice() + \" Used car? \" + this.getIsUsed());\n",
    "    }\n",
    "    public static void main(String[] args) {\n",
    "        Car[] listOfCars = new Car[3];\n",
    "\n",
    "        Car Toyota = new Car(\"Toyota\", 2022, \"Corolla\", 24999.99, false);\n",
    "        Car Honda = new Car(\"Honda\", 2018, \"Accord\", 18999.99, true);\n",
    "        Car Ford = new Car(\"Ford\", 2020, \"Mustang\", 34999.99, true);\n",
    "\n",
    "        listOfCars[0] = Toyota;\n",
    "        listOfCars[1] = Honda;\n",
    "        listOfCars[2] = Ford;\n",
    "    for (int i = 0; i < listOfCars.length; i++)\n",
    "    {\n",
    "        listOfCars[i].printCarDetails();\n",
    "    }\n",
    "\n",
    "        //System.out.println(\"The cheaper car is: \" + cheaperCarName);\n",
    "    }\n",
    "}\n",
    "Car.main(null);\n"
   ]
  },
  {
   "attachments": {},
   "cell_type": "markdown",
   "metadata": {},
   "source": [
    "# Hack 3"
   ]
  },
  {
   "cell_type": "code",
   "execution_count": null,
   "metadata": {},
   "outputs": [],
   "source": [
    "public class Car {\n",
    "    private String name;\n",
    "    private int year;\n",
    "    private double price;\n",
    "    private boolean isUsed;\n",
    "    private String make;\n",
    "    private String model;\n",
    "    public Car(String make, int year, String model, double price, boolean isUsed) {\n",
    "        //this.name = name;\n",
    "        this.year = year;\n",
    "        this.price = price;\n",
    "        this.isUsed = isUsed;\n",
    "        this.model = model;\n",
    "        this.make = make;\n",
    "    }\n",
    "    public String getName() {\n",
    "        return name;\n",
    "    }\n",
    "    public double getPrice() {\n",
    "        return price;\n",
    "    }\n",
    "    public int getYear() {\n",
    "        return year;\n",
    "    }\n",
    "    public boolean getIsUsed() {\n",
    "        return isUsed;\n",
    "    }\n",
    "    public String getMake() {\n",
    "        return make;\n",
    "    }\n",
    "    public String getModel() {\n",
    "        return model;\n",
    "    }\n",
    "    public void printCarDetails() {\n",
    "        System.out.println(\"Make = \" + this.getMake() + \", Model = \" + this.getModel() + \", Year = \" + this.getYear() + \", \" + \"Price = \" + this.getPrice() + \" Used car? \" + this.getIsUsed());\n",
    "    }\n",
    "    public boolean isAffordable(double budget)\n",
    "    public static void main(String[] args) {\n",
    "        Car[] listOfCars = new Car[3];\n",
    "\n",
    "        Car Toyota = new Car(\"Toyota\", 2022, \"Corolla\", 24999.99, false);\n",
    "        Car Honda = new Car(\"Honda\", 2018, \"Accord\", 18999.99, true);\n",
    "        Car Ford = new Car(\"Ford\", 2020, \"Mustang\", 34999.99, true);\n",
    "\n",
    "        listOfCars[0] = Toyota;\n",
    "        listOfCars[1] = Honda;\n",
    "        listOfCars[2] = Ford;\n",
    "    for (int i = 0; i < listOfCars.length; i++)\n",
    "    {\n",
    "        listOfCars[i].printCarDetails();\n",
    "    }\n",
    "\n",
    "        //System.out.println(\"The cheaper car is: \" + cheaperCarName);\n",
    "}   \n",
    "}\n",
    "Car.main(null);"
   ]
  }
 ],
 "metadata": {
  "kernelspec": {
   "display_name": "Java",
   "language": "java",
   "name": "java"
  },
  "language_info": {
   "codemirror_mode": "java",
   "file_extension": ".jshell",
   "mimetype": "text/x-java-source",
   "name": "java",
   "pygments_lexer": "java",
   "version": "11.0.16+8-post-Ubuntu-0ubuntu120.04"
  },
  "orig_nbformat": 4
 },
 "nbformat": 4,
 "nbformat_minor": 2
}
