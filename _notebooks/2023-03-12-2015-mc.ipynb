{
 "cells": [
  {
   "cell_type": "markdown",
   "metadata": {},
   "source": [
    "# 2015 CB MCQ Test Corrections \n",
    "- toc: true \n",
    "- badges: true\n",
    "- comments: true\n",
    "- categories: [jupyter, Test Prep]\n",
    "- image: images/chart-preview.png"
   ]
  },
  {
   "attachments": {},
   "cell_type": "markdown",
   "metadata": {},
   "source": [
    "# Score: 34/39\n",
    "\n",
    "# Questions\n",
    "## Question 9\n",
    "<img src=\"../images/q9.PNG\">\n",
    "- I got this problem wrong because I did not know that you had to add (int)(Math.random()*6) to the 2 times argument to role the two dice. The six would total to the six sides of the dice."
   ]
  },
  {
   "attachments": {},
   "cell_type": "markdown",
   "metadata": {},
   "source": [
    "## Question 13\n",
    "<img src=\"../images/5q13.PNG\">\n",
    "- I got this problem wrong because i thought that the loop would go through and update three elements instead of five elements since k starts at 1. "
   ]
  },
  {
   "attachments": {},
   "cell_type": "markdown",
   "metadata": {},
   "source": [
    "## Question 20\n",
    "<img src=\"../images/q20.PNG\">\n",
    "- The answer that I choose would only be correct if the max value in the \"nums\" was also the value that occured the most times. Instead, the loop starts at 0 and interated through arr. "
   ]
  },
  {
   "attachments": {},
   "cell_type": "markdown",
   "metadata": {},
   "source": [
    "## Question 22\n",
    "<img src=\"../images/q22.PNG\">\n",
    "- I got this one wrong because I didn't correctly follow the path of the for loop to rpoduce the output of 123456. Option A would be the correct answer because it iterates through row by row which outputs 123456"
   ]
  },
  {
   "attachments": {},
   "cell_type": "markdown",
   "metadata": {},
   "source": [
    "## Question 30\n",
    "<img src=\"../images/q30.PNG\">\n",
    "- I got this problem wrong because I thought that choice II would copute the correct price for \"numBoxes\". However, II only is right because it will check if the first conditions are met and them go to the nested else."
   ]
  },
  {
   "attachments": {},
   "cell_type": "markdown",
   "metadata": {},
   "source": [
    "# Summary\n",
    "- Doing this with a group helped a lot because I had multiple people to ask questions to and bounce answer choice ideas off each other. I felt that a lot of the questions I got wrong were ones where you had to go through and look at the loops carefully because I often made silly mistakes. "
   ]
  }
 ],
 "metadata": {
  "kernelspec": {
   "display_name": "Java",
   "language": "java",
   "name": "java"
  },
  "language_info": {
   "name": "java",
   "version": "3.8.10 (default, Jun 22 2022, 20:18:18) \n[GCC 9.4.0]"
  },
  "orig_nbformat": 4,
  "vscode": {
   "interpreter": {
    "hash": "916dbcbb3f70747c44a77c7bcd40155683ae19c65e1c03b4aa3499c5328201f1"
   }
  }
 },
 "nbformat": 4,
 "nbformat_minor": 2
}
