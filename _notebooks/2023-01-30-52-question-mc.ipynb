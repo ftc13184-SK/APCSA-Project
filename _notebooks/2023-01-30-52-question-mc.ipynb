{
 "cells": [
  {
   "attachments": {},
   "cell_type": "markdown",
   "metadata": {},
   "source": [
    "# 52 Question MC Test Corrections\n",
    "- toc: true \n",
    "- badges: true\n",
    "- comments: true\n",
    "- categories: [jupyter, Test Prep]\n",
    "- image: images/chart-preview.png"
   ]
  },
  {
   "attachments": {},
   "cell_type": "markdown",
   "metadata": {},
   "source": [
    "# Summary \n",
    "- On this practice exam, I scored 37/52 \n",
    "- Below are some of the questions and main concepts I missed"
   ]
  },
  {
   "attachments": {},
   "cell_type": "markdown",
   "metadata": {},
   "source": [
    "# Questions\n",
    "## Q1\n",
    "<img src=\"../images/ques1.PNG\">\n",
    "- I got this question wrong because the answer I selected, 64 would set the array to iterate using 5 but that would not throw out an ArrayIndexOutOfBoundsException like 8 would\n"
   ]
  },
  {
   "attachments": {},
   "cell_type": "markdown",
   "metadata": {},
   "source": [
    "## Q6\n",
    "<img src=\"../images/ques6.PNG\">\n",
    "- I'm not too sure why I got this question wrong because I got the part right where the loop iterates from inside to outside, however the outer loop iterates across values first. "
   ]
  },
  {
   "attachments": {},
   "cell_type": "markdown",
   "metadata": {},
   "source": [
    "## Q11\n",
    "<img src=\"../images/Q11.PNG\">\n",
    "- I got this question wrong because I did not know that because 1 and 2 were int variables, the operation \"+\" would add them instead of just concatinating them"
   ]
  },
  {
   "attachments": {},
   "cell_type": "markdown",
   "metadata": {},
   "source": [
    "## Q25\n",
    "<img src=\"../images/Q25.PNG\">\n",
    "- I got this question wrong because I mixed up whether \"baboon\" or \"bear\" would be printed first. The size was calcuated before the room so the two animals would be switched when printed. \n"
   ]
  },
  {
   "attachments": {},
   "cell_type": "markdown",
   "metadata": {},
   "source": [
    "## Q45\n",
    "<img src=\"../images/Q45.PNG\">\n",
    "- I got this question wrong because I thought that the answer was 6 which would mean that line 12 was executed once for each element of arr when it was actually 4 times because line 12 was executed every time the variable sm updated"
   ]
  },
  {
   "attachments": {},
   "cell_type": "markdown",
   "metadata": {},
   "source": [
    "## 48\n",
    "<img src=\"../images/Q48.PNG\">\n",
    "- I got this question wrong because I missed that option II was right as well as option I because I missed that the statement inside the loop calls \"getNum\""
   ]
  },
  {
   "attachments": {},
   "cell_type": "markdown",
   "metadata": {},
   "source": [
    "## 52\n",
    "<img src=\"../images/Q52.PNG\">\n",
    "- I got this question wrong mainly because I was rushing at the end so I didn't study the board correctly and selected the wrong option. Answer E is correct because it follows nested for loops and if statements, printing out the correct board. "
   ]
  },
  {
   "attachments": {},
   "cell_type": "markdown",
   "metadata": {},
   "source": [
    "# Reflection\n",
    "- On this practice exam, I scored 37/52 which I think would be passing with a 4 or 5 on the ap exam\n",
    "- In the future, I will focus on being able to complete the test within the time limit since I took over 2 hours on this test over a couple of days, taking breaks in between\n",
    "- I didn't do as well on this practice mc as the other one but I feel like I understood the material (arrays) on this test more while taking it because it focused on only a couple concepts\n",
    "- To further my confidence with arrays I think I need to learn/remember all the different rules better"
   ]
  }
 ],
 "metadata": {
  "kernelspec": {
   "display_name": "Java",
   "language": "java",
   "name": "java"
  },
  "language_info": {
   "name": "java"
  },
  "orig_nbformat": 4
 },
 "nbformat": 4,
 "nbformat_minor": 2
}
