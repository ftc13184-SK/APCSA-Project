{
 "cells": [
  {
   "cell_type": "markdown",
   "metadata": {},
   "source": [
    "# APCSA Notes\n",
    "- toc: true \n",
    "- badges: true\n",
    "- comments: true\n",
    "- categories: [jupyter]\n",
    "- image: images/chart-preview.png"
   ]
  },
  {
   "cell_type": "markdown",
   "metadata": {},
   "source": [
    "--- \n",
    "# APCSA Notes\n",
    "## Introduction\n",
    "Computer Science A is a course that is broken into 10 units. Below are the units and some notes for each of them. \n",
    "\n",
    "## Unit 1: Primative Types\n",
    "- boolean: true or false \n",
    "- byte: complement integer\n",
    "- char: one code character\n",
    "- short: twos complement integer\n",
    "- int: integer\n",
    "- long: complement integer\n",
    "- float: decimal values up to 7 digits\n",
    "- double: decimal values up to 16 digits\n",
    "\n",
    "## Unit 2: Using Objects\n",
    "## Unit 3: Boolean Expressions and if Statements\n",
    "## Unit 4: Iteration\n",
    "## Unit 5: Writing Class\n",
    "## Unit 6: Array\n",
    "## Unit 7: ArrayList\n",
    "## Unit 8: 2D Arrary\n",
    "## Unit 9: Inheritance\n",
    "## Unit 10: Recursion\n",
    "\n",
    "# Project Based Learning Notes\n",
    "## Week 1: Fastpages\n",
    "- _notebooks (.ipynb files which lets you use markdown, java, etc.)\n",
    "- _posts with markdown files that can be used to help fronted designing\n",
    "- _word to save documents to your Fastpages\n",
    "- You can edit the front page with the index.html file\n",
    "- You can edit sub pages with the _pages folder\n",
    "- You can also add images under the images folder\n",
    "\n",
    "## Week 2\n",
    "## Week 3\n",
    "## Week 4\n",
    "## Week 5\n",
    "## Week 6\n",
    "## Week 7\n",
    "## Week 8"
   ]
  }
 ],
 "metadata": {
  "kernelspec": {
   "display_name": "Python 3.8.10 64-bit",
   "language": "python",
   "name": "python3"
  },
  "language_info": {
   "name": "python",
   "version": "3.8.10"
  },
  "orig_nbformat": 4,
  "vscode": {
   "interpreter": {
    "hash": "916dbcbb3f70747c44a77c7bcd40155683ae19c65e1c03b4aa3499c5328201f1"
   }
  }
 },
 "nbformat": 4,
 "nbformat_minor": 2
}
