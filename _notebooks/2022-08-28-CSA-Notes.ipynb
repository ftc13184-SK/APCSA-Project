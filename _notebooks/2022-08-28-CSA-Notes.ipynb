{
 "cells": [
  {
   "cell_type": "markdown",
   "metadata": {},
   "source": [
    "# APCSA Notes\n",
    "- toc: true \n",
    "- badges: true\n",
    "- comments: true\n",
    "- categories: [jupyter]\n",
    "- image: images/chart-preview.png"
   ]
  },
  {
   "cell_type": "markdown",
   "metadata": {},
   "source": [
    "--- \n",
    "# CSA Notes\n",
    "## Introduction\n",
    "Computer Science A is a course that is broken into 10 units. Below are the units and some notes for each of them. \n",
    "\n",
    "## Unit 1: Primative Types\n",
    "## Unit 2: Using Objects\n",
    "## Unit 3: Boolean Expressions and if Statements\n",
    "## Unit 4: Iteration\n",
    "## Unit 5: Writing Class\n",
    "## Unit 6: Array\n",
    "## Unit 7: ArrayList\n",
    "## Unit 8: 2D Arrary\n",
    "## Unit 9: Inheritance\n",
    "## Unit 10: Recursion"
   ]
  }
 ],
 "metadata": {
  "kernelspec": {
   "display_name": "Python 3.8.10 64-bit",
   "language": "python",
   "name": "python3"
  },
  "language_info": {
   "name": "python",
   "version": "3.8.10"
  },
  "orig_nbformat": 4,
  "vscode": {
   "interpreter": {
    "hash": "916dbcbb3f70747c44a77c7bcd40155683ae19c65e1c03b4aa3499c5328201f1"
   }
  }
 },
 "nbformat": 4,
 "nbformat_minor": 2
}
