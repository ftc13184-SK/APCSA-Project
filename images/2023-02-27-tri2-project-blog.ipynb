{
 "cells": [
  {
   "cell_type": "markdown",
   "metadata": {},
   "source": [
    "# Units 6-10 Homework\n",
    "- toc: true \n",
    "- badges: true\n",
    "- comments: true\n",
    "- categories: [jupyter, PBL]\n",
    "- image: images/chart-preview.png"
   ]
  },
  {
   "attachments": {},
   "cell_type": "markdown",
   "metadata": {},
   "source": [
    "# Initial Ideas\n",
    "## Project Inspiration\n",
    "- Even though we had the option of adding onto our previous trimester project we decided to make a new project idea so that each of our team members would be equally as interested \n",
    "- We explored multiple ideas including a classroom tool and quiz platform\n",
    "- Ultimately we decided we wanted to do something more lighthearted and social focused which is how we settled on Friendlee, a friend finding app designed similar to a mainstream dating app where computer science enthusiasts and others alike are able to find friends\n",
    "\n",
    "## Project Components \n",
    "- When first designing our wireframe we kept with our lighthearted theme and decided on different shades of pink and white as our color pallete\n",
    "- On the front page we wanted to have a quotes API that displyed different friendship quotes and different friendship characteristics\n",
    "- We also wanted a page where different friends in the database are displayed after being collected through the sign up page\n",
    "\n",
    "# Project Building \n",
    "## Challenges\n",
    "- We realized early on that we needed a fourth component so that each of us would have a task so we also decided to create a notes part of the person database to store pros and cons of each person in our database\n",
    "- We were able to get our frontend to look nice easily through a jekyll theme and some html however we struggled with connecting the frontend features to the backend\n",
    "- We had a lot of trouble with JWT and security, a concept that was new to us\n",
    "- We also ran into a big issue with all of us trying to complete all of our parts at once, leading to many errors building up\n",
    "\n",
    "## Final Project\n",
    "- We were able to make the front page very similar to what we had planned with a quotes API and friendship characteristics\n",
    "- We have a sign up and login page that records the person characteristics and notes into a database\n",
    "- We also included a page with cards displaying each person in the database \n",
    "\n",
    "# Final Thoughts\n",
    "## What went well\n",
    "- Pretty much all the frontend work\n",
    "- Working together/communicating with each other througouht the project \n",
    "- sticking to our original ideas\n",
    "\n",
    "## What we could improve on\n",
    "- time management\n",
    "- Debugging and problem solving (not trying to fix everything at once which led us to more and more errors)\n",
    "- Cementing our knowledge on JWT and its implimentations"
   ]
  }
 ],
 "metadata": {
  "kernelspec": {
   "display_name": "Java",
   "language": "java",
   "name": "java"
  },
  "language_info": {
   "name": "java",
   "version": "3.8.10 (default, Jun 22 2022, 20:18:18) \n[GCC 9.4.0]"
  },
  "orig_nbformat": 4,
  "vscode": {
   "interpreter": {
    "hash": "916dbcbb3f70747c44a77c7bcd40155683ae19c65e1c03b4aa3499c5328201f1"
   }
  }
 },
 "nbformat": 4,
 "nbformat_minor": 2
}
